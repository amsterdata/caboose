{
 "cells": [
  {
   "cell_type": "code",
   "execution_count": 1,
   "id": "8d2c4451",
   "metadata": {},
   "outputs": [],
   "source": [
    "import pandas as pd\n",
    "import random\n",
    "from caboose_nbr.upcfr import UPCFr\n",
    "from caboose_nbr.evaluate_recommendation import evaluate\n",
    "from caboose_nbr.evaluate_recommendation import evaluate"
   ]
  },
  {
   "cell_type": "code",
   "execution_count": 2,
   "id": "fdc9103c",
   "metadata": {},
   "outputs": [],
   "source": [
    "train_baskets = pd.read_csv('data/instacart_30k/train_baskets.csv.gz')\n",
    "test_baskets = pd.read_csv('data/instacart_30k/test_baskets.csv')\n",
    "valid_baskets = pd.read_csv('data/instacart_30k/valid_baskets.csv')"
   ]
  },
  {
   "cell_type": "code",
   "execution_count": 3,
   "id": "5054a914",
   "metadata": {},
   "outputs": [],
   "source": [
    "all_users = train_baskets['user_id'].tolist()\n",
    "sample_users = random.sample(all_users,1000)"
   ]
  },
  {
   "cell_type": "code",
   "execution_count": 4,
   "id": "dd35664a",
   "metadata": {},
   "outputs": [],
   "source": [
    "train_baskets = train_baskets[train_baskets['user_id'].isin(sample_users)]\n",
    "test_baskets = test_baskets[test_baskets['user_id'].isin(sample_users)]\n",
    "valid_baskets = valid_baskets[valid_baskets['user_id'].isin(sample_users)]"
   ]
  },
  {
   "cell_type": "code",
   "execution_count": 5,
   "id": "4a7fc622",
   "metadata": {},
   "outputs": [
    {
     "data": {
      "text/plain": [
       "(400050, 10)"
      ]
     },
     "execution_count": 5,
     "metadata": {},
     "output_type": "execute_result"
    }
   ],
   "source": [
    "train_baskets.shape"
   ]
  },
  {
   "cell_type": "code",
   "execution_count": 6,
   "id": "f78ee573",
   "metadata": {},
   "outputs": [
    {
     "data": {
      "text/plain": [
       "(123050, 2)"
      ]
     },
     "execution_count": 6,
     "metadata": {},
     "output_type": "execute_result"
    }
   ],
   "source": [
    "train_baskets[['user_id','item_id']].drop_duplicates().shape"
   ]
  },
  {
   "cell_type": "code",
   "execution_count": 7,
   "id": "ae6e0f5b",
   "metadata": {},
   "outputs": [
    {
     "name": "stderr",
     "output_type": "stream",
     "text": [
      "number of test users: 959\n",
      "filtered items: 9290\n",
      "/Users/mozhdeh/Documents/caboose/caboose_nbr/upcfr.py:37: SettingWithCopyWarning: \n",
      "A value is trying to be set on a copy of a slice from a DataFrame.\n",
      "Try using .loc[row_indexer,col_indexer] = value instead\n",
      "\n",
      "See the caveats in the documentation: https://pandas.pydata.org/pandas-docs/stable/user_guide/indexing.html#returning-a-view-versus-a-copy\n",
      "  self.data['uid'] = self.data['user_id'].rank(method='dense')-1\n",
      "/Users/mozhdeh/Documents/caboose/caboose_nbr/upcfr.py:38: SettingWithCopyWarning: \n",
      "A value is trying to be set on a copy of a slice from a DataFrame.\n",
      "Try using .loc[row_indexer,col_indexer] = value instead\n",
      "\n",
      "See the caveats in the documentation: https://pandas.pydata.org/pandas-docs/stable/user_guide/indexing.html#returning-a-view-versus-a-copy\n",
      "  self.data['pid'] = self.data['item_id'].rank(method='dense')-1\n"
     ]
    },
    {
     "name": "stdout",
     "output_type": "stream",
     "text": [
      "uid       959\n",
      "pid      9290\n",
      "Score    1650\n",
      "dtype: int64\n",
      "(108124, 3)\n",
      "959 9290\n"
     ]
    },
    {
     "name": "stderr",
     "output_type": "stream",
     "text": [
      "Done: 100%|████████████████████████████████████████████████████████████████████████████████████████████████████████████████████████████████████████████████████████████| 959/959 [00:00<00:00, 16186.14it/s]\n"
     ]
    },
    {
     "name": "stdout",
     "output_type": "stream",
     "text": [
      "usersim shape (959, 959)\n"
     ]
    },
    {
     "name": "stderr",
     "output_type": "stream",
     "text": [
      "Done: 100%|█████████████████████████████████████████████████████████████████████████████████████████████████████████████████████████████████████████████████████████████| 959/959 [00:00<00:00, 4507.87it/s]\n"
     ]
    }
   ],
   "source": [
    "upcfr_similaripy = UPCFr(train_baskets, test_baskets, valid_baskets, mode = 'similaripy')\n",
    "upcfr_similaripy.train()\n",
    "upcfr_similaripy_preds = upcfr_similaripy.predict()"
   ]
  },
  {
   "cell_type": "code",
   "execution_count": 8,
   "id": "5f5de55a",
   "metadata": {},
   "outputs": [
    {
     "name": "stderr",
     "output_type": "stream",
     "text": [
      "number of test users: 959\n",
      "filtered items: 9290\n",
      "/Users/mozhdeh/Documents/caboose/caboose_nbr/upcfr.py:37: SettingWithCopyWarning: \n",
      "A value is trying to be set on a copy of a slice from a DataFrame.\n",
      "Try using .loc[row_indexer,col_indexer] = value instead\n",
      "\n",
      "See the caveats in the documentation: https://pandas.pydata.org/pandas-docs/stable/user_guide/indexing.html#returning-a-view-versus-a-copy\n",
      "  self.data['uid'] = self.data['user_id'].rank(method='dense')-1\n",
      "/Users/mozhdeh/Documents/caboose/caboose_nbr/upcfr.py:38: SettingWithCopyWarning: \n",
      "A value is trying to be set on a copy of a slice from a DataFrame.\n",
      "Try using .loc[row_indexer,col_indexer] = value instead\n",
      "\n",
      "See the caveats in the documentation: https://pandas.pydata.org/pandas-docs/stable/user_guide/indexing.html#returning-a-view-versus-a-copy\n",
      "  self.data['pid'] = self.data['item_id'].rank(method='dense')-1\n"
     ]
    },
    {
     "name": "stdout",
     "output_type": "stream",
     "text": [
      "uid       959\n",
      "pid      9290\n",
      "Score    1650\n",
      "dtype: int64\n",
      "(108124, 3)\n",
      "959 9290\n"
     ]
    },
    {
     "name": "stderr",
     "output_type": "stream",
     "text": [
      "--Creating transpose of R...\n",
      "--Computing row norms...\n",
      "--Configuring for top-k -- num_threads: 4; pinning? false;\n",
      "--Scheduling parallel top-k computation...\n"
     ]
    }
   ],
   "source": [
    "upcfr_caboose = UPCFr(train_baskets, test_baskets, valid_baskets, mode = 'caboose')\n",
    "upcfr_caboose.train()\n",
    "upcfr_caboose_preds = upcfr_caboose.predict()"
   ]
  },
  {
   "cell_type": "code",
   "execution_count": 9,
   "id": "aa29b4f8",
   "metadata": {},
   "outputs": [],
   "source": [
    "def sanity_check(default_preds, caboose_preds):\n",
    "    bad_preds  = []\n",
    "    for key in default_preds:\n",
    "        if default_preds[key] != caboose_preds[key]:\n",
    "            bad_preds.append(key)\n",
    "    print('bad predictions:',len(bad_preds))"
   ]
  },
  {
   "cell_type": "code",
   "execution_count": 10,
   "id": "3ba40069",
   "metadata": {},
   "outputs": [
    {
     "name": "stdout",
     "output_type": "stream",
     "text": [
      "bad predictions: 21\n"
     ]
    }
   ],
   "source": [
    "sanity_check(upcfr_similaripy_preds,upcfr_caboose_preds)"
   ]
  },
  {
   "cell_type": "code",
   "execution_count": 11,
   "id": "b4ccc982",
   "metadata": {},
   "outputs": [],
   "source": [
    "user_test_baskets_df = test_baskets.groupby('user_id')['item_id'].apply(list).reset_index()\n",
    "user_test_baskets_dict = dict(zip( user_test_baskets_df['user_id'],user_test_baskets_df['item_id']))\n"
   ]
  },
  {
   "cell_type": "code",
   "execution_count": 12,
   "id": "896909a8",
   "metadata": {},
   "outputs": [
    {
     "name": "stdout",
     "output_type": "stream",
     "text": [
      "10\n",
      "recall: 0.0933517148009453\n",
      "ndcg: 0.15772899847965743\n",
      "20\n",
      "recall: 0.1400875733462191\n",
      "ndcg: 0.12628324010323905\n"
     ]
    }
   ],
   "source": [
    "_,_ = evaluate(user_test_baskets_dict,upcfr_similaripy_preds)"
   ]
  },
  {
   "cell_type": "code",
   "execution_count": 13,
   "id": "49900c05",
   "metadata": {},
   "outputs": [
    {
     "name": "stdout",
     "output_type": "stream",
     "text": [
      "10\n",
      "recall: 0.0933517148009453\n",
      "ndcg: 0.15772899847965743\n",
      "20\n",
      "recall: 0.1400875733462191\n",
      "ndcg: 0.12628324010323905\n"
     ]
    }
   ],
   "source": [
    "_,_ = evaluate(user_test_baskets_dict,upcfr_caboose_preds)"
   ]
  },
  {
   "cell_type": "code",
   "execution_count": 14,
   "id": "f8aa6c20",
   "metadata": {},
   "outputs": [],
   "source": [
    "interactions_to_forget = train_baskets[['user_id','item_id']].drop_duplicates().sample(5000)"
   ]
  },
  {
   "cell_type": "code",
   "execution_count": 15,
   "id": "ce937fa4",
   "metadata": {},
   "outputs": [
    {
     "name": "stdout",
     "output_type": "stream",
     "text": [
      "uid       959\n",
      "pid      9254\n",
      "Score    1634\n",
      "dtype: int64\n",
      "(103748, 3)\n",
      "959 9290\n"
     ]
    },
    {
     "name": "stderr",
     "output_type": "stream",
     "text": [
      "Done: 100%|█████████████████████████████████████████████████████████████████████████████████████████████████████████████████████████████████████████████████████████████| 959/959 [00:00<00:00, 7858.02it/s]\n"
     ]
    },
    {
     "name": "stdout",
     "output_type": "stream",
     "text": [
      "usersim shape (959, 959)\n"
     ]
    },
    {
     "name": "stderr",
     "output_type": "stream",
     "text": [
      "Done: 100%|█████████████████████████████████████████████████████████████████████████████████████████████████████████████████████████████████████████████████████████████| 959/959 [00:00<00:00, 4008.22it/s]\n"
     ]
    }
   ],
   "source": [
    "upcfr_similaripy.forget_interactions(interactions_to_forget.values.tolist())\n",
    "upcfr_similaripy_preds_after_forget = upcfr_similaripy.predict()"
   ]
  },
  {
   "cell_type": "code",
   "execution_count": 16,
   "id": "4bcccb1b",
   "metadata": {},
   "outputs": [
    {
     "name": "stdout",
     "output_type": "stream",
     "text": [
      "uid       959\n",
      "pid      9254\n",
      "Score    1634\n",
      "dtype: int64\n",
      "(103748, 3)\n",
      "959 9290\n"
     ]
    }
   ],
   "source": [
    "upcfr_caboose.forget_interactions(interactions_to_forget.values.tolist())\n",
    "upcfr_caboose_preds_after_forget = upcfr_caboose.predict()"
   ]
  },
  {
   "cell_type": "code",
   "execution_count": 17,
   "id": "deb08ec5",
   "metadata": {},
   "outputs": [
    {
     "name": "stdout",
     "output_type": "stream",
     "text": [
      "bad predictions: 33\n"
     ]
    }
   ],
   "source": [
    "sanity_check(upcfr_similaripy_preds_after_forget,upcfr_caboose_preds_after_forget)"
   ]
  },
  {
   "cell_type": "code",
   "execution_count": 18,
   "id": "15f9bafa",
   "metadata": {},
   "outputs": [
    {
     "name": "stdout",
     "output_type": "stream",
     "text": [
      "10\n",
      "recall: 0.09227087857316017\n",
      "ndcg: 0.15601259476666493\n",
      "20\n",
      "recall: 0.140187393624672\n",
      "ndcg: 0.1260321065956166\n"
     ]
    }
   ],
   "source": [
    "_,_ = evaluate(user_test_baskets_dict,upcfr_similaripy_preds_after_forget)"
   ]
  },
  {
   "cell_type": "code",
   "execution_count": 19,
   "id": "da19921f",
   "metadata": {},
   "outputs": [
    {
     "name": "stdout",
     "output_type": "stream",
     "text": [
      "10\n",
      "recall: 0.09227087857316017\n",
      "ndcg: 0.15601259476666493\n",
      "20\n",
      "recall: 0.140187393624672\n",
      "ndcg: 0.1260321065956166\n"
     ]
    }
   ],
   "source": [
    "_,_ = evaluate(user_test_baskets_dict,upcfr_caboose_preds_after_forget)"
   ]
  },
  {
   "cell_type": "code",
   "execution_count": null,
   "id": "eed49b78",
   "metadata": {},
   "outputs": [],
   "source": []
  }
 ],
 "metadata": {
  "kernelspec": {
   "display_name": "Python 3 (ipykernel)",
   "language": "python",
   "name": "python3"
  },
  "language_info": {
   "codemirror_mode": {
    "name": "ipython",
    "version": 3
   },
   "file_extension": ".py",
   "mimetype": "text/x-python",
   "name": "python",
   "nbconvert_exporter": "python",
   "pygments_lexer": "ipython3",
   "version": "3.9.5"
  }
 },
 "nbformat": 4,
 "nbformat_minor": 5
}
