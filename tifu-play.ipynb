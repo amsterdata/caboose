{
 "cells": [
  {
   "cell_type": "code",
   "execution_count": 1,
   "id": "8d2c4451",
   "metadata": {},
   "outputs": [],
   "source": [
    "import pandas as pd\n",
    "import random\n",
    "from caboose_nbr.tifuknn import TIFUKNN\n",
    "from caboose_nbr.evaluate_recommendation import evaluate"
   ]
  },
  {
   "cell_type": "code",
   "execution_count": 2,
   "id": "fdc9103c",
   "metadata": {},
   "outputs": [],
   "source": [
    "train_baskets = pd.read_csv('data/instacart_30k/train_baskets.csv.gz')\n",
    "test_baskets = pd.read_csv('data/instacart_30k/test_baskets.csv')\n",
    "valid_baskets = pd.read_csv('data/instacart_30k/valid_baskets.csv')"
   ]
  },
  {
   "cell_type": "code",
   "execution_count": 3,
   "id": "5054a914",
   "metadata": {},
   "outputs": [],
   "source": [
    "all_users = train_baskets['user_id'].tolist()\n",
    "sample_users = random.sample(all_users,1000)"
   ]
  },
  {
   "cell_type": "code",
   "execution_count": 4,
   "id": "dd35664a",
   "metadata": {},
   "outputs": [],
   "source": [
    "train_baskets = train_baskets[train_baskets['user_id'].isin(sample_users)]\n",
    "test_baskets = test_baskets[test_baskets['user_id'].isin(sample_users)]\n",
    "valid_baskets = valid_baskets[valid_baskets['user_id'].isin(sample_users)]"
   ]
  },
  {
   "cell_type": "code",
   "execution_count": 5,
   "id": "4a7fc622",
   "metadata": {},
   "outputs": [
    {
     "data": {
      "text/plain": [
       "(402100, 10)"
      ]
     },
     "execution_count": 5,
     "metadata": {},
     "output_type": "execute_result"
    }
   ],
   "source": [
    "train_baskets.shape"
   ]
  },
  {
   "cell_type": "code",
   "execution_count": 6,
   "id": "f78ee573",
   "metadata": {},
   "outputs": [
    {
     "data": {
      "text/plain": [
       "(123042, 2)"
      ]
     },
     "execution_count": 6,
     "metadata": {},
     "output_type": "execute_result"
    }
   ],
   "source": [
    "train_baskets[['user_id','item_id']].drop_duplicates().shape"
   ]
  },
  {
   "cell_type": "code",
   "execution_count": 7,
   "id": "ae6e0f5b",
   "metadata": {},
   "outputs": [
    {
     "name": "stdout",
     "output_type": "stream",
     "text": [
      "number of test users: 971\n",
      "filtered items: 19770\n",
      "initial data processing\n",
      "item count: 8271\n",
      "compute basket reps\n",
      "1000  baskets passed\n",
      "2000  baskets passed\n",
      "3000  baskets passed\n",
      "4000  baskets passed\n",
      "5000  baskets passed\n",
      "6000  baskets passed\n",
      "7000  baskets passed\n",
      "8000  baskets passed\n",
      "9000  baskets passed\n",
      "10000  baskets passed\n",
      "11000  baskets passed\n",
      "12000  baskets passed\n",
      "13000  baskets passed\n",
      "14000  baskets passed\n",
      "15000  baskets passed\n",
      "16000  baskets passed\n",
      "17000  baskets passed\n",
      "18000  baskets passed\n",
      "19000  baskets passed\n",
      "20000  baskets passed\n",
      "21000  baskets passed\n",
      "22000  baskets passed\n",
      "23000  baskets passed\n",
      "24000  baskets passed\n",
      "25000  baskets passed\n",
      "26000  baskets passed\n",
      "27000  baskets passed\n",
      "28000  baskets passed\n",
      "29000  baskets passed\n",
      "compute user reps 971\n",
      "(971, 8271)\n",
      "start of knn\n",
      "knn finished\n"
     ]
    }
   ],
   "source": [
    "tifu_sklearn_cosine = TIFUKNN(train_baskets, test_baskets, valid_baskets, mode = 'sklearn', distance_metric = 'cosine')\n",
    "tifu_sklearn_cosine.train()\n",
    "tifu_sklearn_cosine_preds = tifu_sklearn_cosine.predict()"
   ]
  },
  {
   "cell_type": "code",
   "execution_count": 8,
   "id": "4532e902",
   "metadata": {},
   "outputs": [
    {
     "name": "stdout",
     "output_type": "stream",
     "text": [
      "number of test users: 971\n",
      "filtered items: 19770\n",
      "initial data processing\n",
      "item count: 8271\n",
      "compute basket reps\n",
      "1000  baskets passed\n",
      "2000  baskets passed\n",
      "3000  baskets passed\n",
      "4000  baskets passed\n",
      "5000  baskets passed\n",
      "6000  baskets passed\n",
      "7000  baskets passed\n",
      "8000  baskets passed\n",
      "9000  baskets passed\n",
      "10000  baskets passed\n",
      "11000  baskets passed\n",
      "12000  baskets passed\n",
      "13000  baskets passed\n",
      "14000  baskets passed\n",
      "15000  baskets passed\n",
      "16000  baskets passed\n",
      "17000  baskets passed\n",
      "18000  baskets passed\n",
      "19000  baskets passed\n",
      "20000  baskets passed\n",
      "21000  baskets passed\n",
      "22000  baskets passed\n",
      "23000  baskets passed\n",
      "24000  baskets passed\n",
      "25000  baskets passed\n",
      "26000  baskets passed\n",
      "27000  baskets passed\n",
      "28000  baskets passed\n",
      "29000  baskets passed\n",
      "compute user reps 971\n",
      "(971, 8271)\n",
      "start of knn\n",
      "knn finished\n"
     ]
    }
   ],
   "source": [
    "tifu_caboose = TIFUKNN(train_baskets, test_baskets, valid_baskets,'caboose')\n",
    "tifu_caboose.train()\n",
    "tifu_caboose_preds = tifu_caboose.predict()"
   ]
  },
  {
   "cell_type": "code",
   "execution_count": 10,
   "id": "efb49958",
   "metadata": {},
   "outputs": [
    {
     "name": "stdout",
     "output_type": "stream",
     "text": [
      "total users: 971\n",
      "bad users (users who have a difference in their top 50 predicted items for caboose vs. cosine sklearn:) 11\n"
     ]
    }
   ],
   "source": [
    "bad_users_items = []\n",
    "for user in tifu_caboose_preds:\n",
    "    if tifu_caboose_preds[user][:50] != tifu_sklearn_cosine_preds[user][:50]:\n",
    "        bad_users_items.append(user)\n",
    "print('total users:',len(tifu_caboose_preds))\n",
    "print('bad users (users who have a difference in their top 50 predicted items for caboose vs. cosine sklearn:)',len(bad_users_items))"
   ]
  },
  {
   "cell_type": "code",
   "execution_count": 11,
   "id": "91b197ca",
   "metadata": {},
   "outputs": [
    {
     "name": "stdout",
     "output_type": "stream",
     "text": [
      "bad users with less than k neighbors in caboose: 11\n"
     ]
    }
   ],
   "source": [
    "low_neighbors = 0\n",
    "same_neighbors = []\n",
    "for user in bad_users_items:\n",
    "    if len(tifu_caboose.all_user_nns[user]) < tifu_caboose.k:\n",
    "        low_neighbors +=1\n",
    "    else:\n",
    "        same_neighbors.append(user)\n",
    "print('bad users with less than k neighbors in caboose:',low_neighbors)"
   ]
  },
  {
   "cell_type": "code",
   "execution_count": 12,
   "id": "a9384942",
   "metadata": {},
   "outputs": [],
   "source": [
    "for user in same_neighbors:\n",
    "    print('------')\n",
    "    print('user:',user)\n",
    "    caboose_nns = set([x[0] for x in tifu_caboose.all_user_nns[user]])\n",
    "    sklearn_nns = set(tifu_sklearn_cosine.all_user_nns[user])\n",
    "    print(caboose_nns.difference(sklearn_nns))\n",
    "    print(sklearn_nns.difference(caboose_nns))"
   ]
  },
  {
   "cell_type": "code",
   "execution_count": 13,
   "id": "20c5ff21",
   "metadata": {},
   "outputs": [],
   "source": [
    "user_test_baskets_df = test_baskets.groupby('user_id')['item_id'].apply(list).reset_index()\n",
    "user_test_baskets_dict = dict(zip( user_test_baskets_df['user_id'],user_test_baskets_df['item_id']))\n"
   ]
  },
  {
   "cell_type": "code",
   "execution_count": 14,
   "id": "5c00e205",
   "metadata": {},
   "outputs": [
    {
     "name": "stdout",
     "output_type": "stream",
     "text": [
      "10\n",
      "recall: 0.2939014207985762\n",
      "ndcg: 0.43595287507205055\n",
      "20\n",
      "recall: 0.42102466739981853\n",
      "ndcg: 0.3506600288129201\n"
     ]
    }
   ],
   "source": [
    "_,_ = evaluate(user_test_baskets_dict,tifu_sklearn_cosine_preds)"
   ]
  },
  {
   "cell_type": "code",
   "execution_count": 15,
   "id": "79ec68ed",
   "metadata": {},
   "outputs": [
    {
     "name": "stdout",
     "output_type": "stream",
     "text": [
      "10\n",
      "recall: 0.2939014207985762\n",
      "ndcg: 0.43595287507205055\n",
      "20\n",
      "recall: 0.42102466739981853\n",
      "ndcg: 0.3506573958802037\n"
     ]
    }
   ],
   "source": [
    "_,_ = evaluate(user_test_baskets_dict,tifu_caboose_preds)"
   ]
  },
  {
   "cell_type": "code",
   "execution_count": null,
   "id": "5f5de55a",
   "metadata": {},
   "outputs": [],
   "source": []
  }
 ],
 "metadata": {
  "kernelspec": {
   "display_name": "Python 3 (ipykernel)",
   "language": "python",
   "name": "python3"
  },
  "language_info": {
   "codemirror_mode": {
    "name": "ipython",
    "version": 3
   },
   "file_extension": ".py",
   "mimetype": "text/x-python",
   "name": "python",
   "nbconvert_exporter": "python",
   "pygments_lexer": "ipython3",
   "version": "3.9.5"
  }
 },
 "nbformat": 4,
 "nbformat_minor": 5
}
