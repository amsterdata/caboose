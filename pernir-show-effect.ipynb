{
 "cells": [
  {
   "cell_type": "code",
   "execution_count": 1,
   "id": "8d2c4451",
   "metadata": {},
   "outputs": [],
   "source": [
    "import pandas as pd\n",
    "import numpy as np\n",
    "from caboose_nbr.pernir import Pernir"
   ]
  },
  {
   "cell_type": "code",
   "execution_count": 2,
   "id": "fdc9103c",
   "metadata": {},
   "outputs": [],
   "source": [
    "train_baskets = pd.read_csv('data/instacart_30k/train_baskets.csv.gz')\n",
    "test_baskets = pd.read_csv('data/instacart_30k/test_baskets.csv')\n",
    "valid_baskets = pd.read_csv('data/instacart_30k/valid_baskets.csv')"
   ]
  },
  {
   "cell_type": "code",
   "execution_count": 3,
   "id": "7da77935",
   "metadata": {},
   "outputs": [],
   "source": [
    "aisles = pd.read_csv('data/instacart_30k/aisles.csv')\n",
    "products = pd.read_csv('data/instacart_30k/products.csv')\n",
    "products_with_aisles = products.merge(aisles, on='aisle_id')"
   ]
  },
  {
   "cell_type": "code",
   "execution_count": 4,
   "id": "e280852f",
   "metadata": {},
   "outputs": [],
   "source": [
    "train_baskets_with_aisles = train_baskets.merge(products_with_aisles, left_on=\"item_id\", right_on=\"product_id\")"
   ]
  },
  {
   "cell_type": "code",
   "execution_count": 5,
   "id": "8ebe3f90",
   "metadata": {},
   "outputs": [],
   "source": [
    "# Works for seed=42 and sample_size=100,250,1000\n",
    "\n",
    "seed = 1312\n",
    "sample_size = 100\n",
    "sensitive_aisles = [82, 92, 102, 56]\n",
    "\n",
    "np.random.seed(seed)\n",
    "\n",
    "baby_baskets = train_baskets_with_aisles[train_baskets_with_aisles.aisle_id.isin(sensitive_aisles)]\n",
    "all_baby_users = baby_baskets.user_id.unique()\n",
    "baby_users = np.array(np.random.choice(all_baby_users, sample_size))\n",
    "baby_user_baskets = train_baskets_with_aisles[train_baskets_with_aisles.user_id.isin(baby_users)]\n",
    "\n",
    "other_aisles = [aisle for aisle in baby_user_baskets.aisle_id.unique() if aisle not in sensitive_aisles]\n",
    "\n",
    "all_nonbaby_users  = train_baskets_with_aisles[(train_baskets_with_aisles.aisle_id.isin(other_aisles)) \\\n",
    "                          & (~train_baskets_with_aisles.user_id.isin(all_baby_users))].user_id.unique()\n",
    "\n",
    "\n",
    "nonbaby_users = np.array(np.random.choice(all_nonbaby_users, sample_size))"
   ]
  },
  {
   "cell_type": "code",
   "execution_count": 6,
   "id": "dd35664a",
   "metadata": {},
   "outputs": [],
   "source": [
    "users = np.concatenate((baby_users, nonbaby_users))\n",
    "sampled_train_baskets = train_baskets[train_baskets['user_id'].isin(users)]\n",
    "sampled_test_baskets = test_baskets[test_baskets['user_id'].isin(users)]\n",
    "sampled_valid_baskets = valid_baskets[valid_baskets['user_id'].isin(users)]"
   ]
  },
  {
   "cell_type": "code",
   "execution_count": 7,
   "id": "f78ee573",
   "metadata": {},
   "outputs": [
    {
     "data": {
      "text/plain": [
       "(15486, 2)"
      ]
     },
     "execution_count": 7,
     "metadata": {},
     "output_type": "execute_result"
    }
   ],
   "source": [
    "sampled_train_baskets[['user_id','item_id']].drop_duplicates().shape"
   ]
  },
  {
   "cell_type": "code",
   "execution_count": 8,
   "id": "4532e902",
   "metadata": {},
   "outputs": [
    {
     "name": "stdout",
     "output_type": "stream",
     "text": [
      "start of knn\n",
      "knn finished\n"
     ]
    },
    {
     "name": "stderr",
     "output_type": "stream",
     "text": [
      "--Creating transpose of R...\n",
      "--Computing row norms...\n",
      "--Configuring for top-k -- num_threads: 8; pinning? false;\n",
      "--Scheduling parallel top-k computation...\n"
     ]
    }
   ],
   "source": [
    "pernir_caboose = Pernir(sampled_train_baskets, sampled_test_baskets, 'caboose')\n",
    "pernir_caboose.train()"
   ]
  },
  {
   "cell_type": "code",
   "execution_count": 9,
   "id": "563a0e21",
   "metadata": {},
   "outputs": [
    {
     "name": "stderr",
     "output_type": "stream",
     "text": [
      "/Users/ssc/projects/caboose/caboose_nbr/pernir.py:114: SettingWithCopyWarning: \n",
      "A value is trying to be set on a copy of a slice from a DataFrame.\n",
      "Try using .loc[row_indexer,col_indexer] = value instead\n",
      "\n",
      "See the caveats in the documentation: https://pandas.pydata.org/pandas-docs/stable/user_guide/indexing.html#returning-a-view-versus-a-copy\n",
      "  self.train_baskets['user_item'] = self.train_baskets.apply(lambda x: [x['user_id'],x['item_id']],axis = 1)\n"
     ]
    },
    {
     "name": "stdout",
     "output_type": "stream",
     "text": [
      "Before [158226, 114276, 5218, 202924, 45893, 174739, 181611, 205905, 152313, 76694]\n",
      "After [158226, 5218, 202924, 45893, 114276, 76694, 174739, 181611, 205905, 152313]\n",
      "User 206056: (1,4) --> 1\n",
      "---\n",
      "Before [43467, 5218, 158226, 40404, 63165, 125951, 193304, 205326]\n",
      "After [43467, 193304, 158226, 125951, 205326, 5218, 40404, 63165]\n",
      "User 168374: (1,1) --> 1\n",
      "---\n",
      "Before [81175, 193304, 43467, 152923, 67810, 3194, 103467, 91692, 137197, 26310]\n",
      "After [81175, 193304, 43467, 152923, 103467, 91692, 67810, 137197, 26310, 3194]\n",
      "User 160617: (1,29) --> 1\n",
      "---\n",
      "Before [124638, 33263, 33477, 72097, 152782, 170657, 118823, 72539, 65410, 189344]\n",
      "After [124638, 33477, 33263, 118823, 65410, 152782, 72097, 72539, 189344, 170657]\n",
      "User 194289: (1,1) --> 1\n",
      "---\n",
      "Before [140883, 54522, 45603, 76943, 67341, 167309, 76573, 192448, 27377, 28905]\n",
      "After [140883, 76943, 54522, 45603, 28905, 192448, 67341, 76573, 27377, 167309]\n",
      "User 105207: (2,6) --> 2\n",
      "---\n",
      "Before [122062, 76573, 45603, 141160, 131949, 27377, 48209, 67341, 192448, 76943]\n",
      "After [122062, 76573, 141160, 131949, 45603, 76943, 27377, 192448, 48209, 67341]\n",
      "User 160640: (1,1) --> 1\n",
      "---\n",
      "Before [142661, 12172, 18871, 70504, 65068, 118823, 167309, 124638, 201191, 168208]\n",
      "After [142661, 12172, 18871, 65068, 70504, 118823, 168208, 124638, 167309, 201191]\n",
      "User 33263: (1,2) --> 1\n",
      "---\n",
      "Before [107544, 59123, 28905, 156210, 11100, 136256, 103467, 54522, 45603, 142661]\n",
      "After [107544, 156210, 59123, 45603, 54522, 11100, 28905, 103467, 142661, 136256]\n",
      "User 197782: (1,2) --> 1\n",
      "---\n",
      "Before [28905, 81175, 195496, 116544, 60810, 67341, 5393, 204728, 204080, 131507]\n",
      "After [28905, 195496, 5393, 81175, 67341, 131507, 204728, 60810, 116544, 204080]\n",
      "User 84199: (1,1) --> 1\n",
      "---\n",
      "Before [152782, 76943, 167309, 139972, 27377, 192448, 149525, 67341, 54522, 45603]\n",
      "After [152782, 167309, 139972, 192448, 76943, 149525, 54522, 27377, 67341, 45603]\n",
      "User 45893: (1,1) --> 1\n",
      "---\n",
      "Before [140342, 45757, 194697, 54522, 197782, 149525, 23366, 114091, 136256, 45893]\n",
      "After [140342, 45757, 197782, 54522, 114091, 149525, 136256, 194697, 45893, 23366]\n",
      "User 44924: (1,2) --> 1\n",
      "---\n",
      "Before [137197, 164752, 67810, 26310, 101659, 193304, 157780, 91692, 103467, 152923]\n",
      "After [137197, 101659, 164752, 67810, 26310, 157780, 91692, 193304, 152923, 103467]\n",
      "User 175385: (1,31) --> 1\n",
      "---\n",
      "Before [174739, 204728, 136256, 16950, 168208, 70504, 65410, 59123, 119242, 197982]\n",
      "After [174739, 204728, 136256, 59123, 168208, 16950, 70504, 197982, 65410, 119242]\n",
      "User 100195: (1,1) --> 1\n",
      "---\n",
      "Before [80520, 131949, 116544, 202924, 45893, 50987, 174739, 152313, 206056, 76694]\n",
      "After [80520, 116544, 131949, 202924, 50987, 76694, 45893, 206056, 174739, 152313]\n",
      "User 205905: (1,1) --> 1\n",
      "---\n",
      "Before [118823, 59123, 67341, 201191, 136256, 189608, 78904, 164752, 157780, 90952]\n",
      "After [118823, 59123, 67341, 164752, 201191, 136256, 78904, 157780, 189608, 90952]\n",
      "User 105379: (1,3) --> 1\n",
      "---\n",
      "Before [175385, 152782, 72097, 131949, 123914, 101659, 116544, 59123, 54722, 135479]\n",
      "After [175385, 152782, 72097, 101659, 131949, 54722, 135479, 123914, 116544, 59123]\n",
      "User 165126: (3,27) --> 3\n",
      "---\n",
      "Before [109918, 70504, 103467, 164752, 193304, 118823, 189608, 65068, 81175, 26310]\n",
      "After [109918, 81175, 70504, 65068, 103467, 193304, 164752, 189608, 26310, 118823]\n",
      "User 59123: (1,15) --> 1\n",
      "---\n",
      "Before [204080, 67810, 12962, 3194, 160617, 164752, 103467, 152923, 193304, 175385]\n",
      "After [123914, 12962, 204080, 160617, 3194, 103467, 152923, 175385, 164752, 193304]\n",
      "User 91692: (2,13) --> 2\n",
      "---\n",
      "Before [86416, 67341, 27754, 127595, 26310, 168208, 142661, 118823, 122062, 59123]\n",
      "After [86416, 67341, 168208, 27754, 59123, 142661, 26310, 122062, 127595, 118823]\n",
      "User 140342: (1,1) --> 1\n",
      "---\n",
      "Before [152782, 167309, 67341, 76943, 76573, 192448, 5218, 27377, 45603, 105207]\n",
      "After [152782, 167309, 67341, 45603, 76943, 105207, 76573, 27377, 192448, 5218]\n",
      "User 140883: (1,32) --> 1\n",
      "---\n",
      "Before [140342, 192448, 124638, 152782, 70504, 167309, 72097, 18871, 33263, 118823]\n",
      "After [140342, 192448, 70504, 124638, 18871, 152782, 167309, 33263, 118823, 72097]\n",
      "User 168208: (1,20) --> 1\n",
      "---\n",
      "Before [65068, 91692, 142661, 59548, 21491, 100195, 59123, 159522, 54522, 12172]\n",
      "After [65068, 21491, 91692, 59548, 12172, 54522, 59123, 159522, 142661, 100195]\n",
      "User 197982: (1,1) --> 1\n",
      "---\n",
      "Before [203296, 189608, 142661, 149525, 76943, 45603, 102233, 139972, 64533, 129715]\n",
      "After [204728, 149525, 11100, 129715, 76943, 139972, 203296, 45603, 64533, 102233]\n",
      "User 21491: (3,4) --> 3\n",
      "---\n",
      "Before [175385, 152782, 60810, 54722, 30186, 101659, 118823, 70504, 59123, 168208]\n",
      "After [175385, 152782, 30186, 60810, 54722, 168208, 70504, 59123, 101659, 118823]\n",
      "User 72097: (1,2) --> 1\n",
      "---\n",
      "Before [26310, 154916, 18871, 50987, 103467, 195496, 152923, 67810, 123914, 81175]\n",
      "After [26310, 50987, 154916, 195496, 18871, 152923, 67810, 123914, 81175, 103467]\n",
      "User 159945: (1,1) --> 1\n",
      "---\n"
     ]
    }
   ],
   "source": [
    "baby_items = set(baby_baskets.item_id.unique())\n",
    "\n",
    "for user in baby_users:\n",
    "    \n",
    "    predictions, scores = pernir_caboose.predict_for_user(user, 10)\n",
    "    nb = pernir_caboose.user_neighbors[user]\n",
    "    predicted_baby_items = set(predictions) & baby_items\n",
    "    has_baby_items = len(predicted_baby_items) > 0\n",
    "    \n",
    "    if has_baby_items:\n",
    "        chosen_users_items = sampled_train_baskets[sampled_train_baskets.user_id==user].item_id.unique()\n",
    "        chosen_users_baby_items = set(chosen_users_items) & baby_items\n",
    "\n",
    "        to_forget = [(user, item) for item in chosen_users_baby_items]\n",
    "        pernir_caboose.forget_interactions(to_forget)\n",
    "        #predictions_after_forget = pernir_caboose.predict_for_user(user, 10)\n",
    "        predictions_after_forget, scores_after = pernir_caboose.predict_for_user(user, 10)\n",
    "        na = pernir_caboose.user_neighbors[user]\n",
    "        remaining_baby_items = set(predictions_after_forget) & baby_items\n",
    "        #print('Before', predictions)\n",
    "        #print('Before', nb)        \n",
    "        #print('After', predictions_after_forget)\n",
    "        #print('After', na)        \n",
    "        print(f'User {user}: ({len(predicted_baby_items)},{len(to_forget)}) --> {len(remaining_baby_items)}')\n",
    "        print('---')"
   ]
  },
  {
   "cell_type": "code",
   "execution_count": null,
   "id": "6c254081",
   "metadata": {},
   "outputs": [],
   "source": []
  }
 ],
 "metadata": {
  "kernelspec": {
   "display_name": "Python 3 (ipykernel)",
   "language": "python",
   "name": "python3"
  },
  "language_info": {
   "codemirror_mode": {
    "name": "ipython",
    "version": 3
   },
   "file_extension": ".py",
   "mimetype": "text/x-python",
   "name": "python",
   "nbconvert_exporter": "python",
   "pygments_lexer": "ipython3",
   "version": "3.9.13"
  }
 },
 "nbformat": 4,
 "nbformat_minor": 5
}
