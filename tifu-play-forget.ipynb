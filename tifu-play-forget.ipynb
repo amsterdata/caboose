{
 "cells": [
  {
   "cell_type": "code",
   "execution_count": 1,
   "id": "8d2c4451",
   "metadata": {},
   "outputs": [],
   "source": [
    "import pandas as pd\n",
    "import random\n",
    "from caboose_nbr.tifuknn import TIFUKNN\n",
    "from caboose_nbr.evaluate_recommendation import evaluate"
   ]
  },
  {
   "cell_type": "code",
   "execution_count": 2,
   "id": "fdc9103c",
   "metadata": {},
   "outputs": [],
   "source": [
    "train_baskets = pd.read_csv('data/instacart_30k/train_baskets.csv.gz')\n",
    "test_baskets = pd.read_csv('data/instacart_30k/test_baskets.csv')\n",
    "valid_baskets = pd.read_csv('data/instacart_30k/valid_baskets.csv')"
   ]
  },
  {
   "cell_type": "code",
   "execution_count": 3,
   "id": "5054a914",
   "metadata": {},
   "outputs": [],
   "source": [
    "all_users = train_baskets['user_id'].tolist()\n",
    "sample_users = random.sample(all_users,1000)"
   ]
  },
  {
   "cell_type": "code",
   "execution_count": 4,
   "id": "dd35664a",
   "metadata": {},
   "outputs": [],
   "source": [
    "train_baskets = train_baskets[train_baskets['user_id'].isin(sample_users)]\n",
    "test_baskets = test_baskets[test_baskets['user_id'].isin(sample_users)]\n",
    "valid_baskets = valid_baskets[valid_baskets['user_id'].isin(sample_users)]"
   ]
  },
  {
   "cell_type": "code",
   "execution_count": 5,
   "id": "4a7fc622",
   "metadata": {},
   "outputs": [
    {
     "data": {
      "text/plain": [
       "(411999, 10)"
      ]
     },
     "execution_count": 5,
     "metadata": {},
     "output_type": "execute_result"
    }
   ],
   "source": [
    "train_baskets.shape"
   ]
  },
  {
   "cell_type": "code",
   "execution_count": 6,
   "id": "f78ee573",
   "metadata": {},
   "outputs": [
    {
     "data": {
      "text/plain": [
       "(125386, 2)"
      ]
     },
     "execution_count": 6,
     "metadata": {},
     "output_type": "execute_result"
    }
   ],
   "source": [
    "train_baskets[['user_id','item_id']].drop_duplicates().shape"
   ]
  },
  {
   "cell_type": "code",
   "execution_count": 7,
   "id": "ae6e0f5b",
   "metadata": {},
   "outputs": [
    {
     "name": "stdout",
     "output_type": "stream",
     "text": [
      "number of test users: 957\n",
      "filtered items: 19829\n",
      "initial data processing\n",
      "item count: 8420\n",
      "compute basket reps\n",
      "1000  baskets passed\n",
      "2000  baskets passed\n",
      "3000  baskets passed\n",
      "4000  baskets passed\n",
      "5000  baskets passed\n",
      "6000  baskets passed\n",
      "7000  baskets passed\n",
      "8000  baskets passed\n",
      "9000  baskets passed\n",
      "10000  baskets passed\n",
      "11000  baskets passed\n",
      "12000  baskets passed\n",
      "13000  baskets passed\n",
      "14000  baskets passed\n",
      "15000  baskets passed\n",
      "16000  baskets passed\n",
      "17000  baskets passed\n",
      "18000  baskets passed\n",
      "19000  baskets passed\n",
      "20000  baskets passed\n",
      "21000  baskets passed\n",
      "22000  baskets passed\n",
      "23000  baskets passed\n",
      "24000  baskets passed\n",
      "25000  baskets passed\n",
      "26000  baskets passed\n",
      "27000  baskets passed\n",
      "28000  baskets passed\n",
      "29000  baskets passed\n",
      "compute user reps 957\n",
      "(957, 8420)\n",
      "start of knn\n",
      "knn finished\n"
     ]
    }
   ],
   "source": [
    "tifu_sklearn_cosine = TIFUKNN(train_baskets, test_baskets, valid_baskets, mode = 'sklearn', distance_metric = 'cosine')\n",
    "tifu_sklearn_cosine.train()\n",
    "tifu_sklearn_cosine_preds = tifu_sklearn_cosine.predict()"
   ]
  },
  {
   "cell_type": "code",
   "execution_count": 8,
   "id": "4532e902",
   "metadata": {},
   "outputs": [
    {
     "name": "stdout",
     "output_type": "stream",
     "text": [
      "number of test users: 957\n",
      "filtered items: 19829\n",
      "initial data processing\n",
      "item count: 8420\n",
      "compute basket reps\n",
      "1000  baskets passed\n",
      "2000  baskets passed\n",
      "3000  baskets passed\n",
      "4000  baskets passed\n",
      "5000  baskets passed\n",
      "6000  baskets passed\n",
      "7000  baskets passed\n",
      "8000  baskets passed\n",
      "9000  baskets passed\n",
      "10000  baskets passed\n",
      "11000  baskets passed\n",
      "12000  baskets passed\n",
      "13000  baskets passed\n",
      "14000  baskets passed\n",
      "15000  baskets passed\n",
      "16000  baskets passed\n",
      "17000  baskets passed\n",
      "18000  baskets passed\n",
      "19000  baskets passed\n",
      "20000  baskets passed\n",
      "21000  baskets passed\n",
      "22000  baskets passed\n",
      "23000  baskets passed\n",
      "24000  baskets passed\n",
      "25000  baskets passed\n",
      "26000  baskets passed\n",
      "27000  baskets passed\n",
      "28000  baskets passed\n",
      "29000  baskets passed\n",
      "compute user reps 957\n",
      "(957, 8420)\n",
      "start of knn\n",
      "knn finished\n"
     ]
    }
   ],
   "source": [
    "tifu_caboose = TIFUKNN(train_baskets, test_baskets, valid_baskets,'caboose')\n",
    "tifu_caboose.train()\n",
    "tifu_caboose_preds = tifu_caboose.predict()"
   ]
  },
  {
   "cell_type": "code",
   "execution_count": 9,
   "id": "dfaf6793",
   "metadata": {},
   "outputs": [],
   "source": [
    "interactions_to_forget = train_baskets[['user_id','item_id']].drop_duplicates().sample(5000)"
   ]
  },
  {
   "cell_type": "code",
   "execution_count": null,
   "id": "d7a53535",
   "metadata": {},
   "outputs": [],
   "source": [
    "tifu_caboose.train_baskets[(train_baskets['user_id'] == 19482) & (train_baskets['item_id'] == 32433) ].head()"
   ]
  },
  {
   "cell_type": "code",
   "execution_count": null,
   "id": "6fb3ff64",
   "metadata": {},
   "outputs": [],
   "source": [
    "import numpy as np\n",
    "import math\n",
    "sorted_baskets = tifu_caboose.train_baskets.sort_values(['user_id','order_number'])\n",
    "sorted_baskets = sorted_baskets[['user_id','basket_id']].drop_duplicates()\n",
    "user_baskets_df = sorted_baskets.groupby('user_id')['basket_id'].apply(list).reset_index()\n",
    "user_baskets_dict = dict(zip(user_baskets_df['user_id'],user_baskets_df['basket_id']))\n",
    "basket_items_df = tifu_caboose.train_baskets[['basket_id','item_id']].drop_duplicates().groupby('basket_id')['item_id'] \\\n",
    "            .apply(list).reset_index()\n",
    "basket_items_dict = dict(zip(basket_items_df['basket_id'],basket_items_df['item_id']))\n",
    "\n",
    "rep = np.array([0.0]* len(tifu_caboose.item_id_mapper))\n",
    "\n",
    "user = 19482\n",
    "baskets = user_baskets_dict[user]\n",
    "group_size = math.ceil(len(baskets)/tifu_caboose.m)\n",
    "addition = (group_size * tifu_caboose.m) - len(baskets)\n",
    "\n",
    "basket_groups = []\n",
    "basket_groups.append(baskets[:group_size-addition])\n",
    "for i in range(tifu_caboose.m-1):\n",
    "    basket_groups.append(baskets[group_size-addition+(i* group_size):group_size-addition+((i+1)* group_size)])\n",
    "\n",
    "for i in range(tifu_caboose.m):\n",
    "    print('group')\n",
    "    group_rep = np.array([0.0]* len(tifu_caboose.item_id_mapper))\n",
    "    for j in range(1,len(basket_groups[i])+1):\n",
    "        basket = basket_groups[i][j-1]\n",
    "\n",
    "        this_rep = [0]* len(tifu_caboose.item_id_mapper)\n",
    "        for item in basket_items_dict[basket]:\n",
    "            if item in tifu_caboose.item_id_mapper:\n",
    "                if item == 32433:\n",
    "                    print('miad!')\n",
    "                this_rep[tifu_caboose.item_id_mapper[item]] = 1\n",
    "\n",
    "        basket_rep = np.array(this_rep) * math.pow(tifu_caboose.rb, group_size-j)\n",
    "        group_rep += basket_rep\n",
    "    group_rep /= group_size\n",
    "    print(group_rep[tifu_caboose.item_id_mapper[32433]])\n",
    "    rep += np.array(group_rep) * math.pow(tifu_caboose.rg, tifu_caboose.m-i)\n",
    "    print(rep[tifu_caboose.item_id_mapper[32433]])\n",
    "\n",
    "rep /= tifu_caboose.m"
   ]
  },
  {
   "cell_type": "code",
   "execution_count": null,
   "id": "3afec108",
   "metadata": {},
   "outputs": [],
   "source": [
    "for user,item in interactions_to_forget.values.tolist():\n",
    "    if item in tifu_caboose.item_id_mapper and user in tifu_caboose.user_map:\n",
    "        print(user,item)\n",
    "        print(tifu_caboose.user_reps[tifu_caboose.user_map[user]][tifu_caboose.item_id_mapper[item]])\n",
    "        #tifu_caboose.user_reps[tifu_caboose.user_map[user]][tifu_caboose.item_id_mapper[item]] = 0\n",
    "        #tifu_caboose.caboose.forget(tifu_caboose.user_map[user],tifu_caboose.item_id_mapper[item])"
   ]
  },
  {
   "cell_type": "code",
   "execution_count": 10,
   "id": "838affc2",
   "metadata": {},
   "outputs": [
    {
     "name": "stderr",
     "output_type": "stream",
     "text": [
      "/Users/mozhdeh/Documents/caboose/caboose_nbr/tifuknn.py:129: SettingWithCopyWarning: \n",
      "A value is trying to be set on a copy of a slice from a DataFrame\n",
      "\n",
      "See the caveats in the documentation: https://pandas.pydata.org/pandas-docs/stable/user_guide/indexing.html#returning-a-view-versus-a-copy\n",
      "  self.train_baskets.drop('user_item', axis=1, inplace=True)\n"
     ]
    },
    {
     "name": "stdout",
     "output_type": "stream",
     "text": [
      "initial data processing\n",
      "item count: 8209\n",
      "compute basket reps\n",
      "1000  baskets passed\n",
      "2000  baskets passed\n",
      "3000  baskets passed\n",
      "4000  baskets passed\n",
      "5000  baskets passed\n",
      "6000  baskets passed\n",
      "7000  baskets passed\n",
      "8000  baskets passed\n",
      "9000  baskets passed\n",
      "10000  baskets passed\n",
      "11000  baskets passed\n",
      "12000  baskets passed\n",
      "13000  baskets passed\n",
      "14000  baskets passed\n",
      "15000  baskets passed\n",
      "16000  baskets passed\n",
      "17000  baskets passed\n",
      "18000  baskets passed\n",
      "19000  baskets passed\n",
      "20000  baskets passed\n",
      "21000  baskets passed\n",
      "22000  baskets passed\n",
      "23000  baskets passed\n",
      "24000  baskets passed\n",
      "25000  baskets passed\n",
      "26000  baskets passed\n",
      "27000  baskets passed\n",
      "28000  baskets passed\n",
      "29000  baskets passed\n",
      "compute user reps 957\n",
      "(957, 8420)\n",
      "start of knn\n",
      "knn finished\n"
     ]
    }
   ],
   "source": [
    "tifu_sklearn_cosine.forget_interactions(interactions_to_forget.values.tolist())\n",
    "tifu_sklearn_cosine_preds_after_forget = tifu_sklearn_cosine.predict()"
   ]
  },
  {
   "cell_type": "code",
   "execution_count": 11,
   "id": "232fdded",
   "metadata": {},
   "outputs": [],
   "source": [
    "tifu_caboose.forget_interactions(interactions_to_forget.values.tolist())\n",
    "tifu_caboose_preds_after_forget = tifu_caboose.predict()"
   ]
  },
  {
   "cell_type": "code",
   "execution_count": 13,
   "id": "b489dffe",
   "metadata": {},
   "outputs": [],
   "source": [
    "user_test_baskets_df = test_baskets.groupby('user_id')['item_id'].apply(list).reset_index()\n",
    "user_test_baskets_dict = dict(zip( user_test_baskets_df['user_id'],user_test_baskets_df['item_id']))"
   ]
  },
  {
   "cell_type": "code",
   "execution_count": 14,
   "id": "73c73cb9",
   "metadata": {},
   "outputs": [
    {
     "name": "stdout",
     "output_type": "stream",
     "text": [
      "10\n",
      "recall: 0.28589681113851917\n",
      "ndcg: 0.4309156000846968\n",
      "20\n",
      "recall: 0.4089619259853871\n",
      "ndcg: 0.3476394477420133\n"
     ]
    }
   ],
   "source": [
    "_,_ = evaluate(user_test_baskets_dict,tifu_sklearn_cosine_preds)"
   ]
  },
  {
   "cell_type": "code",
   "execution_count": 15,
   "id": "9e39b7bb",
   "metadata": {},
   "outputs": [
    {
     "name": "stdout",
     "output_type": "stream",
     "text": [
      "10\n",
      "recall: 0.28589681113851917\n",
      "ndcg: 0.4309156000846968\n",
      "20\n",
      "recall: 0.4089619259853871\n",
      "ndcg: 0.34763865376373787\n"
     ]
    }
   ],
   "source": [
    "_,_ = evaluate(user_test_baskets_dict,tifu_caboose_preds)"
   ]
  },
  {
   "cell_type": "code",
   "execution_count": 16,
   "id": "1bdc7c9b",
   "metadata": {},
   "outputs": [
    {
     "name": "stdout",
     "output_type": "stream",
     "text": [
      "10\n",
      "recall: 0.2804697395752089\n",
      "ndcg: 0.42409397175943037\n",
      "20\n",
      "recall: 0.4002570049935217\n",
      "ndcg: 0.34193608168412404\n"
     ]
    }
   ],
   "source": [
    "_,_ = evaluate(user_test_baskets_dict,tifu_sklearn_cosine_preds_after_forget)"
   ]
  },
  {
   "cell_type": "code",
   "execution_count": 19,
   "id": "bdb47e2c",
   "metadata": {},
   "outputs": [
    {
     "name": "stdout",
     "output_type": "stream",
     "text": [
      "10\n",
      "recall: 0.28069658057284086\n",
      "ndcg: 0.4242549234588572\n",
      "20\n",
      "recall: 0.4008608428074309\n",
      "ndcg: 0.34218268604635294\n"
     ]
    }
   ],
   "source": [
    "_,_ = evaluate(user_test_baskets_dict,tifu_caboose_preds_after_forget)"
   ]
  },
  {
   "cell_type": "code",
   "execution_count": null,
   "id": "77beba3a",
   "metadata": {},
   "outputs": [],
   "source": []
  }
 ],
 "metadata": {
  "kernelspec": {
   "display_name": "Python 3 (ipykernel)",
   "language": "python",
   "name": "python3"
  },
  "language_info": {
   "codemirror_mode": {
    "name": "ipython",
    "version": 3
   },
   "file_extension": ".py",
   "mimetype": "text/x-python",
   "name": "python",
   "nbconvert_exporter": "python",
   "pygments_lexer": "ipython3",
   "version": "3.9.5"
  }
 },
 "nbformat": 4,
 "nbformat_minor": 5
}
