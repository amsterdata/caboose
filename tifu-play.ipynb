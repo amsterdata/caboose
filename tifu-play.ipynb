{
 "cells": [
  {
   "cell_type": "code",
   "execution_count": 1,
   "id": "8d2c4451",
   "metadata": {},
   "outputs": [],
   "source": [
    "import pandas as pd\n",
    "import random\n",
    "from caboose_nbr.tifuknn import TIFUKNN"
   ]
  },
  {
   "cell_type": "code",
   "execution_count": 2,
   "id": "fdc9103c",
   "metadata": {},
   "outputs": [],
   "source": [
    "train_baskets = pd.read_csv('data/instacart_30k/train_baskets.csv.gz')\n",
    "test_baskets = pd.read_csv('data/instacart_30k/test_baskets.csv')\n",
    "valid_baskets = pd.read_csv('data/instacart_30k/valid_baskets.csv')"
   ]
  },
  {
   "cell_type": "code",
   "execution_count": 3,
   "id": "1f96395d",
   "metadata": {},
   "outputs": [],
   "source": [
    "all_users = train_baskets['user_id'].tolist()\n",
    "sample_users = random.sample(all_users,1000)"
   ]
  },
  {
   "cell_type": "code",
   "execution_count": 4,
   "id": "374a5fbe",
   "metadata": {},
   "outputs": [],
   "source": [
    "train_baskets = train_baskets[train_baskets['user_id'].isin(sample_users)]\n",
    "test_baskets = test_baskets[test_baskets['user_id'].isin(sample_users)]\n",
    "valid_baskets = valid_baskets[valid_baskets['user_id'].isin(sample_users)]"
   ]
  },
  {
   "cell_type": "code",
   "execution_count": 5,
   "id": "4a7fc622",
   "metadata": {},
   "outputs": [
    {
     "data": {
      "text/plain": [
       "(408407, 10)"
      ]
     },
     "execution_count": 5,
     "metadata": {},
     "output_type": "execute_result"
    }
   ],
   "source": [
    "train_baskets.shape"
   ]
  },
  {
   "cell_type": "code",
   "execution_count": 6,
   "id": "958baf92",
   "metadata": {},
   "outputs": [
    {
     "data": {
      "text/plain": [
       "(126219, 2)"
      ]
     },
     "execution_count": 6,
     "metadata": {},
     "output_type": "execute_result"
    }
   ],
   "source": [
    "train_baskets[['user_id','item_id']].drop_duplicates().shape"
   ]
  },
  {
   "cell_type": "code",
   "execution_count": 7,
   "id": "ae6e0f5b",
   "metadata": {},
   "outputs": [
    {
     "name": "stdout",
     "output_type": "stream",
     "text": [
      "number of test users: 966\n",
      "filtered items: 20056\n",
      "initial data processing\n",
      "item count: 8387\n",
      "compute user reps 966\n",
      "(966, 8387)\n",
      "start of knn\n",
      "knn finished\n"
     ]
    }
   ],
   "source": [
    "tifu_sklearn_cosine = TIFUKNN(train_baskets, test_baskets, valid_baskets, mode = 'sklearn', distance_metric = 'cosine')\n",
    "tifu_sklearn_cosine.train()\n",
    "tifu_sklearn_cosine_preds = tifu_sklearn_cosine.predict()"
   ]
  },
  {
   "cell_type": "code",
   "execution_count": 8,
   "id": "4532e902",
   "metadata": {},
   "outputs": [
    {
     "name": "stdout",
     "output_type": "stream",
     "text": [
      "number of test users: 966\n",
      "filtered items: 20056\n",
      "initial data processing\n",
      "item count: 8387\n",
      "compute user reps 966\n",
      "(966, 8387)\n",
      "start of knn\n",
      "knn finished\n"
     ]
    }
   ],
   "source": [
    "tifu_caboose = TIFUKNN(train_baskets, test_baskets, valid_baskets,'caboose')\n",
    "tifu_caboose.train()\n",
    "tifu_caboose_preds = tifu_caboose.predict()"
   ]
  },
  {
   "cell_type": "code",
   "execution_count": 10,
   "id": "efb49958",
   "metadata": {},
   "outputs": [
    {
     "name": "stdout",
     "output_type": "stream",
     "text": [
      "total users: 966\n",
      "bad users (users who have a difference in their top 50 predicted items for caboose vs. cosine sklearn:) 189\n"
     ]
    }
   ],
   "source": [
    "bad_users_items = []\n",
    "for user in tifu_caboose_preds:\n",
    "    if tifu_caboose_preds[user][:50] != tifu_sklearn_cosine_preds[user][:50]:\n",
    "        bad_users_items.append(user)\n",
    "print('total users:',len(tifu_caboose_preds))\n",
    "print('bad users (users who have a difference in their top 50 predicted items for caboose vs. cosine sklearn:)',len(bad_users_items))"
   ]
  },
  {
   "cell_type": "code",
   "execution_count": 15,
   "id": "a23e3c48",
   "metadata": {},
   "outputs": [
    {
     "name": "stdout",
     "output_type": "stream",
     "text": [
      "bad users with less than k neighbors in caboose: 184\n"
     ]
    }
   ],
   "source": [
    "low_neighbors = 0\n",
    "same_neighbors = []\n",
    "for user in bad_users_items:\n",
    "    if len(tifu_caboose.all_user_nns[user]) < tifu_caboose.k:\n",
    "        low_neighbors +=1\n",
    "    else:\n",
    "        same_neighbors.append(user)\n",
    "print('bad users with less than k neighbors in caboose:',low_neighbors)"
   ]
  },
  {
   "cell_type": "code",
   "execution_count": 13,
   "id": "fc02d632",
   "metadata": {},
   "outputs": [
    {
     "name": "stdout",
     "output_type": "stream",
     "text": [
      "{238}\n",
      "{458}\n"
     ]
    }
   ],
   "source": [
    "user = 43927\n",
    "caboose_nns = set([x[0] for x in tifu_caboose.all_user_nns[user]])\n",
    "sklearn_nns = set(tifu_sklearn_cosine.all_user_nns[user])\n",
    "print(caboose_nns.difference(sklearn_nns))\n",
    "print(sklearn_nns.difference(caboose_nns))"
   ]
  },
  {
   "cell_type": "code",
   "execution_count": 14,
   "id": "415223d4",
   "metadata": {},
   "outputs": [
    {
     "name": "stdout",
     "output_type": "stream",
     "text": [
      "{504}\n",
      "{253}\n"
     ]
    }
   ],
   "source": [
    "user = 110210\n",
    "caboose_nns = set([x[0] for x in tifu_caboose.all_user_nns[user]])\n",
    "sklearn_nns = set(tifu_sklearn_cosine.all_user_nns[user])\n",
    "print(caboose_nns.difference(sklearn_nns))\n",
    "print(sklearn_nns.difference(caboose_nns))"
   ]
  },
  {
   "cell_type": "code",
   "execution_count": null,
   "id": "0b9da662",
   "metadata": {},
   "outputs": [],
   "source": [
    "user = 144107\n",
    "caboose_nns = set([x[0] for x in tifu_caboose.all_user_nns[user]])\n",
    "sklearn_nns = set(tifu_sklearn_cosine.all_user_nns[user])\n",
    "print(caboose_nns.difference(sklearn_nns))\n",
    "print(sklearn_nns.difference(caboose_nns))"
   ]
  },
  {
   "cell_type": "code",
   "execution_count": null,
   "id": "106642b5",
   "metadata": {},
   "outputs": [],
   "source": []
  }
 ],
 "metadata": {
  "kernelspec": {
   "display_name": "Python 3 (ipykernel)",
   "language": "python",
   "name": "python3"
  },
  "language_info": {
   "codemirror_mode": {
    "name": "ipython",
    "version": 3
   },
   "file_extension": ".py",
   "mimetype": "text/x-python",
   "name": "python",
   "nbconvert_exporter": "python",
   "pygments_lexer": "ipython3",
   "version": "3.9.5"
  }
 },
 "nbformat": 4,
 "nbformat_minor": 5
}
