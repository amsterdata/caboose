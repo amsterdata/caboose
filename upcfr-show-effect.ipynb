{
 "cells": [
  {
   "cell_type": "code",
   "execution_count": 1,
   "id": "8d2c4451",
   "metadata": {},
   "outputs": [],
   "source": [
    "import pandas as pd\n",
    "import numpy as np\n",
    "from caboose_nbr.upcfr import UPCFr"
   ]
  },
  {
   "cell_type": "code",
   "execution_count": 2,
   "id": "fdc9103c",
   "metadata": {},
   "outputs": [],
   "source": [
    "train_baskets = pd.read_csv('data/instacart_30k/train_baskets.csv.gz')\n",
    "test_baskets = pd.read_csv('data/instacart_30k/test_baskets.csv')\n",
    "valid_baskets = pd.read_csv('data/instacart_30k/valid_baskets.csv')"
   ]
  },
  {
   "cell_type": "code",
   "execution_count": 3,
   "id": "7da77935",
   "metadata": {},
   "outputs": [],
   "source": [
    "aisles = pd.read_csv('data/instacart_30k/aisles.csv')\n",
    "products = pd.read_csv('data/instacart_30k/products.csv')\n",
    "products_with_aisles = products.merge(aisles, on='aisle_id')"
   ]
  },
  {
   "cell_type": "code",
   "execution_count": 4,
   "id": "e280852f",
   "metadata": {},
   "outputs": [],
   "source": [
    "train_baskets_with_aisles = train_baskets.merge(products_with_aisles, left_on=\"item_id\", right_on=\"product_id\")"
   ]
  },
  {
   "cell_type": "code",
   "execution_count": 5,
   "id": "8ebe3f90",
   "metadata": {},
   "outputs": [],
   "source": [
    "# Works for seed=42 and sample_size=100,250,1000\n",
    "\n",
    "seed = 1312\n",
    "sample_size = 250\n",
    "sensitive_aisles = [82, 92, 102, 56]\n",
    "\n",
    "np.random.seed(seed)\n",
    "\n",
    "baby_baskets = train_baskets_with_aisles[train_baskets_with_aisles.aisle_id.isin(sensitive_aisles)]\n",
    "all_baby_users = baby_baskets.user_id.unique()\n",
    "baby_users = np.array(np.random.choice(all_baby_users, sample_size))\n",
    "baby_user_baskets = train_baskets_with_aisles[train_baskets_with_aisles.user_id.isin(baby_users)]\n",
    "\n",
    "other_aisles = [aisle for aisle in baby_user_baskets.aisle_id.unique() if aisle not in sensitive_aisles]\n",
    "\n",
    "all_nonbaby_users  = train_baskets_with_aisles[(train_baskets_with_aisles.aisle_id.isin(other_aisles)) \\\n",
    "                          & (~train_baskets_with_aisles.user_id.isin(all_baby_users))].user_id.unique()\n",
    "\n",
    "\n",
    "nonbaby_users = np.array(np.random.choice(all_nonbaby_users, sample_size))"
   ]
  },
  {
   "cell_type": "code",
   "execution_count": 6,
   "id": "dd35664a",
   "metadata": {},
   "outputs": [],
   "source": [
    "users = np.concatenate((baby_users, nonbaby_users))\n",
    "sampled_train_baskets = train_baskets[train_baskets['user_id'].isin(users)]\n",
    "sampled_test_baskets = test_baskets[test_baskets['user_id'].isin(users)]\n",
    "sampled_valid_baskets = valid_baskets[valid_baskets['user_id'].isin(users)]"
   ]
  },
  {
   "cell_type": "code",
   "execution_count": 7,
   "id": "f78ee573",
   "metadata": {},
   "outputs": [
    {
     "data": {
      "text/plain": [
       "(42192, 2)"
      ]
     },
     "execution_count": 7,
     "metadata": {},
     "output_type": "execute_result"
    }
   ],
   "source": [
    "sampled_train_baskets[['user_id','item_id']].drop_duplicates().shape"
   ]
  },
  {
   "cell_type": "code",
   "execution_count": 8,
   "id": "4532e902",
   "metadata": {},
   "outputs": [
    {
     "name": "stderr",
     "output_type": "stream",
     "text": [
      "number of test users: 496\n",
      "filtered items: 3980\n",
      "/Users/ssc/projects/caboose/caboose_nbr/upcfr.py:37: SettingWithCopyWarning: \n",
      "A value is trying to be set on a copy of a slice from a DataFrame.\n",
      "Try using .loc[row_indexer,col_indexer] = value instead\n",
      "\n",
      "See the caveats in the documentation: https://pandas.pydata.org/pandas-docs/stable/user_guide/indexing.html#returning-a-view-versus-a-copy\n",
      "  self.data['uid'] = self.data['user_id'].rank(method='dense')-1\n",
      "/Users/ssc/projects/caboose/caboose_nbr/upcfr.py:38: SettingWithCopyWarning: \n",
      "A value is trying to be set on a copy of a slice from a DataFrame.\n",
      "Try using .loc[row_indexer,col_indexer] = value instead\n",
      "\n",
      "See the caveats in the documentation: https://pandas.pydata.org/pandas-docs/stable/user_guide/indexing.html#returning-a-view-versus-a-copy\n",
      "  self.data['pid'] = self.data['item_id'].rank(method='dense')-1\n",
      "--Creating transpose of R...\n",
      "--Computing row norms...\n",
      "--Configuring for top-k -- num_threads: 8; pinning? false;\n",
      "--Scheduling parallel top-k computation...\n"
     ]
    }
   ],
   "source": [
    "upcfr_caboose = UPCFr(sampled_train_baskets, sampled_test_baskets, sampled_valid_baskets, 'caboose')\n",
    "upcfr_caboose.train()"
   ]
  },
  {
   "cell_type": "code",
   "execution_count": 9,
   "id": "563a0e21",
   "metadata": {},
   "outputs": [
    {
     "name": "stdout",
     "output_type": "stream",
     "text": [
      "98359 --> 98356\n",
      "User 206056: (2,1,2) --> 1\n",
      "---\n",
      "98356 --> 98355\n",
      "User 76573: (1,1,1) --> 1\n",
      "---\n",
      "98355 --> 98353\n",
      "User 129043: (2,1,2) --> 1\n",
      "---\n",
      "98353 --> 98266\n",
      "User 158226: (48,6,48) --> 0\n",
      "---\n",
      "98266 --> 98262\n",
      "User 205326: (2,1,2) --> 0\n",
      "---\n",
      "98262 --> 98250\n",
      "User 80520: (4,1,4) --> 0\n",
      "---\n",
      "98250 --> 98249\n",
      "User 157817: (1,1,1) --> 1\n",
      "---\n",
      "98249 --> 98245\n",
      "User 196384: (3,1,3) --> 0\n",
      "---\n",
      "98245 --> 98243\n",
      "User 44924: (1,1,1) --> 1\n",
      "---\n",
      "98243 --> 98131\n",
      "User 165126: (21,4,21) --> 0\n",
      "---\n",
      "98131 --> 98122\n",
      "User 28902: (9,1,9) --> 0\n",
      "---\n",
      "98122 --> 98118\n",
      "User 177746: (3,1,3) --> 0\n",
      "---\n",
      "98118 --> 98057\n",
      "User 69141: (15,1,15) --> 0\n",
      "---\n",
      "98057 --> 98050\n",
      "User 187202: (1,1,1) --> 1\n",
      "---\n",
      "98050 --> 98048\n",
      "User 107791: (2,1,2) --> 1\n",
      "---\n"
     ]
    }
   ],
   "source": [
    "baby_items = set(baby_baskets.item_id.unique())\n",
    "\n",
    "for user in baby_users:\n",
    "    \n",
    "    predictions = upcfr_caboose.predict_for_user(user, 10)\n",
    "\n",
    "    predicted_baby_items = set(predictions) & baby_items\n",
    "    has_baby_items = len(predicted_baby_items) > 0\n",
    "    \n",
    "    if has_baby_items:\n",
    "        #chosen_users_items = sampled_train_baskets[sampled_train_baskets.user_id==user].item_id.unique()\n",
    "        chosen_users_items = upcfr_caboose.data[upcfr_caboose.data.user_id==user].item_id.unique()        \n",
    "        chosen_users_baby_items = set(chosen_users_items) & baby_items\n",
    "\n",
    "        len_before = len(upcfr_caboose.data)\n",
    "        to_forget = [(user, item) for item in chosen_users_baby_items]        \n",
    "        upcfr_caboose.forget_interactions(to_forget)\n",
    "        predictions_after_forget = upcfr_caboose.predict_for_user(user, 10)\n",
    "\n",
    "        remaining_baby_items = set(predictions_after_forget) & baby_items    \n",
    "        print(len_before, '-->', len(upcfr_caboose.data))\n",
    "        print(f'User {user}: ({len(chosen_users_baby_items)},{len(predicted_baby_items)},{len(to_forget)}) --> {len(remaining_baby_items)}')\n",
    "        print('---')"
   ]
  },
  {
   "cell_type": "code",
   "execution_count": 10,
   "id": "9d88c463",
   "metadata": {},
   "outputs": [
    {
     "name": "stdout",
     "output_type": "stream",
     "text": [
      "User 206056: (1,4) --> 1\n",
      "---\n",
      "User 76573: (1,1) --> 1\n",
      "---\n",
      "User 129043: (1,2) --> 1\n",
      "---\n",
      "User 157817: (1,1) --> 1\n",
      "---\n",
      "User 44924: (1,2) --> 1\n",
      "---\n",
      "User 187202: (1,1) --> 1\n",
      "---\n",
      "User 107791: (1,2) --> 1\n",
      "---\n"
     ]
    }
   ],
   "source": [
    "baby_items = set(baby_baskets.item_id.unique())\n",
    "\n",
    "for user in baby_users:\n",
    "    \n",
    "    predictions = upcfr_caboose.predict_for_user(user, 10)\n",
    "\n",
    "    predicted_baby_items = set(predictions) & baby_items\n",
    "    has_baby_items = len(predicted_baby_items) > 0\n",
    "    \n",
    "    if has_baby_items:\n",
    "        chosen_users_items = sampled_train_baskets[sampled_train_baskets.user_id==user].item_id.unique()\n",
    "        chosen_users_baby_items = set(chosen_users_items) & baby_items\n",
    "\n",
    "        to_forget = [(user, item) for item in chosen_users_baby_items]\n",
    "        upcfr_caboose.forget_interactions(to_forget)\n",
    "        predictions_after_forget = upcfr_caboose.predict_for_user(user, 10)\n",
    "\n",
    "        remaining_baby_items = set(predictions_after_forget) & baby_items\n",
    "        #print('Before', predictions)      \n",
    "        #print('After', predictions_after_forget)     \n",
    "        print(f'User {user}: ({len(predicted_baby_items)},{len(to_forget)}) --> {len(remaining_baby_items)}')\n",
    "        print('---')"
   ]
  },
  {
   "cell_type": "code",
   "execution_count": null,
   "id": "6c254081",
   "metadata": {},
   "outputs": [],
   "source": []
  }
 ],
 "metadata": {
  "kernelspec": {
   "display_name": "Python 3 (ipykernel)",
   "language": "python",
   "name": "python3"
  },
  "language_info": {
   "codemirror_mode": {
    "name": "ipython",
    "version": 3
   },
   "file_extension": ".py",
   "mimetype": "text/x-python",
   "name": "python",
   "nbconvert_exporter": "python",
   "pygments_lexer": "ipython3",
   "version": "3.9.13"
  }
 },
 "nbformat": 4,
 "nbformat_minor": 5
}
