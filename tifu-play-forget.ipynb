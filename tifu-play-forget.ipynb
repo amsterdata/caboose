{
 "cells": [
  {
   "cell_type": "code",
   "execution_count": 1,
   "id": "8d2c4451",
   "metadata": {},
   "outputs": [],
   "source": [
    "import pandas as pd\n",
    "import random\n",
    "from caboose_nbr.tifuknn import TIFUKNN\n",
    "from caboose_nbr.evaluate_recommendation import evaluate"
   ]
  },
  {
   "cell_type": "code",
   "execution_count": 2,
   "id": "fdc9103c",
   "metadata": {},
   "outputs": [],
   "source": [
    "train_baskets = pd.read_csv('data/instacart_30k/train_baskets.csv.gz')\n",
    "test_baskets = pd.read_csv('data/instacart_30k/test_baskets.csv')\n",
    "valid_baskets = pd.read_csv('data/instacart_30k/valid_baskets.csv')"
   ]
  },
  {
   "cell_type": "code",
   "execution_count": 3,
   "id": "5054a914",
   "metadata": {},
   "outputs": [],
   "source": [
    "all_users = train_baskets['user_id'].tolist()\n",
    "sample_users = random.sample(all_users,1000)"
   ]
  },
  {
   "cell_type": "code",
   "execution_count": 4,
   "id": "dd35664a",
   "metadata": {},
   "outputs": [],
   "source": [
    "train_baskets = train_baskets[train_baskets['user_id'].isin(sample_users)]\n",
    "test_baskets = test_baskets[test_baskets['user_id'].isin(sample_users)]\n",
    "valid_baskets = valid_baskets[valid_baskets['user_id'].isin(sample_users)]"
   ]
  },
  {
   "cell_type": "code",
   "execution_count": 5,
   "id": "4a7fc622",
   "metadata": {},
   "outputs": [
    {
     "data": {
      "text/plain": [
       "(402890, 10)"
      ]
     },
     "execution_count": 5,
     "metadata": {},
     "output_type": "execute_result"
    }
   ],
   "source": [
    "train_baskets.shape"
   ]
  },
  {
   "cell_type": "code",
   "execution_count": 6,
   "id": "f78ee573",
   "metadata": {},
   "outputs": [
    {
     "data": {
      "text/plain": [
       "(124524, 2)"
      ]
     },
     "execution_count": 6,
     "metadata": {},
     "output_type": "execute_result"
    }
   ],
   "source": [
    "train_baskets[['user_id','item_id']].drop_duplicates().shape"
   ]
  },
  {
   "cell_type": "code",
   "execution_count": 7,
   "id": "ae6e0f5b",
   "metadata": {},
   "outputs": [
    {
     "name": "stdout",
     "output_type": "stream",
     "text": [
      "number of test users: 964\n",
      "filtered items: 19958\n",
      "initial data processing\n",
      "item count: 8219\n",
      "compute user reps 964\n",
      "(964, 8219)\n",
      "start of knn\n",
      "knn finished\n"
     ]
    }
   ],
   "source": [
    "tifu_sklearn_cosine = TIFUKNN(train_baskets, test_baskets, valid_baskets, mode = 'sklearn', distance_metric = 'cosine')\n",
    "tifu_sklearn_cosine.train()\n",
    "tifu_sklearn_cosine_preds = tifu_sklearn_cosine.predict()"
   ]
  },
  {
   "cell_type": "code",
   "execution_count": 8,
   "id": "4532e902",
   "metadata": {},
   "outputs": [
    {
     "name": "stdout",
     "output_type": "stream",
     "text": [
      "number of test users: 964\n",
      "filtered items: 19958\n",
      "initial data processing\n",
      "item count: 8219\n",
      "compute user reps 964\n",
      "(964, 8219)\n",
      "start of knn\n",
      "knn finished\n"
     ]
    }
   ],
   "source": [
    "tifu_caboose = TIFUKNN(train_baskets, test_baskets, valid_baskets,'caboose')\n",
    "tifu_caboose.train()\n",
    "tifu_caboose_preds = tifu_caboose.predict()"
   ]
  },
  {
   "cell_type": "code",
   "execution_count": 9,
   "id": "dfaf6793",
   "metadata": {},
   "outputs": [],
   "source": [
    "interactions_to_forget = train_baskets[['user_id','item_id']].drop_duplicates().sample(5000)"
   ]
  },
  {
   "cell_type": "code",
   "execution_count": 10,
   "id": "3afec108",
   "metadata": {},
   "outputs": [
    {
     "name": "stdout",
     "output_type": "stream",
     "text": [
      "142544 8277\n",
      "151345 15040\n"
     ]
    },
    {
     "name": "stderr",
     "output_type": "stream",
     "text": [
      "thread '<unnamed>' panicked at 'called `Option::unwrap()` on a `None` value', /Users/mozhdeh/Documents/caboose_index/src/sparse_topk_index.rs:107:25\n",
      "note: run with `RUST_BACKTRACE=1` environment variable to display a backtrace\n"
     ]
    },
    {
     "ename": "PanicException",
     "evalue": "called `Option::unwrap()` on a `None` value",
     "output_type": "error",
     "traceback": [
      "\u001b[0;31m---------------------------------------------------------------------------\u001b[0m",
      "\u001b[0;31mPanicException\u001b[0m                            Traceback (most recent call last)",
      "Cell \u001b[0;32mIn[10], line 5\u001b[0m\n\u001b[1;32m      3\u001b[0m \u001b[38;5;28mprint\u001b[39m(user,item)\n\u001b[1;32m      4\u001b[0m tifu_caboose\u001b[38;5;241m.\u001b[39muser_reps[tifu_caboose\u001b[38;5;241m.\u001b[39muser_map[user]][tifu_caboose\u001b[38;5;241m.\u001b[39mitem_id_mapper[item]] \u001b[38;5;241m=\u001b[39m \u001b[38;5;241m0\u001b[39m\n\u001b[0;32m----> 5\u001b[0m \u001b[43mtifu_caboose\u001b[49m\u001b[38;5;241;43m.\u001b[39;49m\u001b[43mcaboose\u001b[49m\u001b[38;5;241;43m.\u001b[39;49m\u001b[43mforget\u001b[49m\u001b[43m(\u001b[49m\u001b[43mtifu_caboose\u001b[49m\u001b[38;5;241;43m.\u001b[39;49m\u001b[43muser_map\u001b[49m\u001b[43m[\u001b[49m\u001b[43muser\u001b[49m\u001b[43m]\u001b[49m\u001b[43m,\u001b[49m\u001b[43mtifu_caboose\u001b[49m\u001b[38;5;241;43m.\u001b[39;49m\u001b[43mitem_id_mapper\u001b[49m\u001b[43m[\u001b[49m\u001b[43mitem\u001b[49m\u001b[43m]\u001b[49m\u001b[43m)\u001b[49m\n",
      "\u001b[0;31mPanicException\u001b[0m: called `Option::unwrap()` on a `None` value"
     ]
    }
   ],
   "source": [
    "for user,item in interactions_to_forget.values.tolist():\n",
    "    if item in tifu_caboose.item_id_mapper and user in tifu_caboose.user_map:\n",
    "        print(user,item)\n",
    "        tifu_caboose.user_reps[tifu_caboose.user_map[user]][tifu_caboose.item_id_mapper[item]] = 0\n",
    "        tifu_caboose.caboose.forget(tifu_caboose.user_map[user],tifu_caboose.item_id_mapper[item])"
   ]
  },
  {
   "cell_type": "code",
   "execution_count": null,
   "id": "232fdded",
   "metadata": {},
   "outputs": [],
   "source": [
    "tifu_caboose.forget_interactions(interactions_to_forget.values.tolist())\n",
    "tifu_caboose_preds_after_forget = tifu_caboose.predict()"
   ]
  },
  {
   "cell_type": "code",
   "execution_count": null,
   "id": "838affc2",
   "metadata": {},
   "outputs": [],
   "source": [
    "tifu_sklearn_cosine.forget_interactions(interactions_to_forget.values.tolist())\n",
    "tifu_sklearn_cosine_preds_after_forget = tifu_sklearn_cosine.predict()"
   ]
  },
  {
   "cell_type": "code",
   "execution_count": null,
   "id": "73c73cb9",
   "metadata": {},
   "outputs": [],
   "source": []
  }
 ],
 "metadata": {
  "kernelspec": {
   "display_name": "Python 3 (ipykernel)",
   "language": "python",
   "name": "python3"
  },
  "language_info": {
   "codemirror_mode": {
    "name": "ipython",
    "version": 3
   },
   "file_extension": ".py",
   "mimetype": "text/x-python",
   "name": "python",
   "nbconvert_exporter": "python",
   "pygments_lexer": "ipython3",
   "version": "3.9.5"
  }
 },
 "nbformat": 4,
 "nbformat_minor": 5
}
