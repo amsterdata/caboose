{
 "cells": [
  {
   "cell_type": "code",
   "execution_count": 1,
   "id": "8d2c4451",
   "metadata": {},
   "outputs": [],
   "source": [
    "import pandas as pd\n",
    "import random\n",
    "from caboose_nbr.tifuknn import TIFUKNN\n",
    "from caboose_nbr.evaluate_recommendation import evaluate"
   ]
  },
  {
   "cell_type": "code",
   "execution_count": 2,
   "id": "fdc9103c",
   "metadata": {},
   "outputs": [],
   "source": [
    "train_baskets = pd.read_csv('data/instacart_30k/train_baskets.csv.gz')\n",
    "test_baskets = pd.read_csv('data/instacart_30k/test_baskets.csv')\n",
    "valid_baskets = pd.read_csv('data/instacart_30k/valid_baskets.csv')"
   ]
  },
  {
   "cell_type": "code",
   "execution_count": 3,
   "id": "5054a914",
   "metadata": {},
   "outputs": [],
   "source": [
    "all_users = train_baskets['user_id'].tolist()\n",
    "sample_users = random.sample(all_users,1000)"
   ]
  },
  {
   "cell_type": "code",
   "execution_count": 4,
   "id": "dd35664a",
   "metadata": {},
   "outputs": [],
   "source": [
    "train_baskets = train_baskets[train_baskets['user_id'].isin(sample_users)]\n",
    "test_baskets = test_baskets[test_baskets['user_id'].isin(sample_users)]\n",
    "valid_baskets = valid_baskets[valid_baskets['user_id'].isin(sample_users)]"
   ]
  },
  {
   "cell_type": "code",
   "execution_count": 5,
   "id": "4a7fc622",
   "metadata": {},
   "outputs": [
    {
     "data": {
      "text/plain": [
       "(398149, 10)"
      ]
     },
     "execution_count": 5,
     "metadata": {},
     "output_type": "execute_result"
    }
   ],
   "source": [
    "train_baskets.shape"
   ]
  },
  {
   "cell_type": "code",
   "execution_count": 6,
   "id": "f78ee573",
   "metadata": {},
   "outputs": [
    {
     "data": {
      "text/plain": [
       "(122651, 2)"
      ]
     },
     "execution_count": 6,
     "metadata": {},
     "output_type": "execute_result"
    }
   ],
   "source": [
    "train_baskets[['user_id','item_id']].drop_duplicates().shape"
   ]
  },
  {
   "cell_type": "code",
   "execution_count": 7,
   "id": "ae6e0f5b",
   "metadata": {},
   "outputs": [
    {
     "name": "stdout",
     "output_type": "stream",
     "text": [
      "number of test users: 969\n",
      "filtered items: 19498\n",
      "initial data processing\n",
      "item count: 8066\n",
      "compute basket reps\n",
      "10000  baskets passed\n",
      "20000  baskets passed\n",
      "compute user reps 969\n",
      "(969, 8066)\n",
      "start of knn\n",
      "knn finished\n"
     ]
    }
   ],
   "source": [
    "tifu_sklearn_cosine = TIFUKNN(train_baskets, test_baskets, valid_baskets, mode = 'sklearn', distance_metric = 'cosine')\n",
    "tifu_sklearn_cosine.train()\n",
    "tifu_sklearn_cosine_preds = tifu_sklearn_cosine.predict()"
   ]
  },
  {
   "cell_type": "code",
   "execution_count": 8,
   "id": "4532e902",
   "metadata": {},
   "outputs": [
    {
     "name": "stdout",
     "output_type": "stream",
     "text": [
      "number of test users: 969\n",
      "filtered items: 19498\n",
      "initial data processing\n",
      "item count: 8066\n",
      "compute basket reps\n",
      "10000  baskets passed\n",
      "20000  baskets passed\n",
      "compute user reps 969\n",
      "(969, 8066)\n",
      "start of knn\n",
      "knn finished\n"
     ]
    }
   ],
   "source": [
    "tifu_caboose = TIFUKNN(train_baskets, test_baskets, valid_baskets,'caboose')\n",
    "tifu_caboose.train()\n",
    "tifu_caboose_preds = tifu_caboose.predict()"
   ]
  },
  {
   "cell_type": "code",
   "execution_count": 9,
   "id": "dfaf6793",
   "metadata": {},
   "outputs": [],
   "source": [
    "interactions_to_forget = train_baskets[['user_id','item_id']].drop_duplicates().sample(5000)"
   ]
  },
  {
   "cell_type": "code",
   "execution_count": 11,
   "id": "838affc2",
   "metadata": {},
   "outputs": [
    {
     "name": "stderr",
     "output_type": "stream",
     "text": [
      "/Users/mozhdeh/Documents/caboose/caboose_nbr/tifuknn.py:132: SettingWithCopyWarning: \n",
      "A value is trying to be set on a copy of a slice from a DataFrame\n",
      "\n",
      "See the caveats in the documentation: https://pandas.pydata.org/pandas-docs/stable/user_guide/indexing.html#returning-a-view-versus-a-copy\n",
      "  self.train_baskets.drop('user_item', axis=1, inplace=True)\n"
     ]
    },
    {
     "name": "stdout",
     "output_type": "stream",
     "text": [
      "compute basket reps\n",
      "10000  baskets passed\n",
      "20000  baskets passed\n",
      "compute user reps 969\n",
      "(969, 8066)\n",
      "start of knn\n",
      "knn finished\n"
     ]
    }
   ],
   "source": [
    "tifu_sklearn_cosine.forget_interactions(interactions_to_forget.values.tolist())\n",
    "tifu_sklearn_cosine_preds_after_forget = tifu_sklearn_cosine.predict()"
   ]
  },
  {
   "cell_type": "code",
   "execution_count": 12,
   "id": "232fdded",
   "metadata": {},
   "outputs": [],
   "source": [
    "tifu_caboose.forget_interactions(interactions_to_forget.values.tolist())\n",
    "tifu_caboose_preds_after_forget = tifu_caboose.predict()"
   ]
  },
  {
   "cell_type": "code",
   "execution_count": 13,
   "id": "51f90f65",
   "metadata": {},
   "outputs": [],
   "source": [
    "user_test_baskets_df = test_baskets.groupby('user_id')['item_id'].apply(list).reset_index()\n",
    "user_test_baskets_dict = dict(zip( user_test_baskets_df['user_id'],user_test_baskets_df['item_id']))"
   ]
  },
  {
   "cell_type": "code",
   "execution_count": 14,
   "id": "73c73cb9",
   "metadata": {},
   "outputs": [
    {
     "name": "stdout",
     "output_type": "stream",
     "text": [
      "10\n",
      "recall: 0.2901291897953595\n",
      "ndcg: 0.43514074225738847\n",
      "20\n",
      "recall: 0.4117316015106464\n",
      "ndcg: 0.34966738037466993\n"
     ]
    }
   ],
   "source": [
    "_,_ = evaluate(user_test_baskets_dict,tifu_sklearn_cosine_preds)"
   ]
  },
  {
   "cell_type": "code",
   "execution_count": 15,
   "id": "9d4c1ae2",
   "metadata": {},
   "outputs": [
    {
     "name": "stdout",
     "output_type": "stream",
     "text": [
      "10\n",
      "recall: 0.2901291897953595\n",
      "ndcg: 0.43514074225738847\n",
      "20\n",
      "recall: 0.4117316015106464\n",
      "ndcg: 0.34966738037466993\n"
     ]
    }
   ],
   "source": [
    "_,_ = evaluate(user_test_baskets_dict,tifu_caboose_preds)"
   ]
  },
  {
   "cell_type": "code",
   "execution_count": 16,
   "id": "d722b51f",
   "metadata": {},
   "outputs": [
    {
     "name": "stdout",
     "output_type": "stream",
     "text": [
      "10\n",
      "recall: 0.2830429291930377\n",
      "ndcg: 0.4277396440053112\n",
      "20\n",
      "recall: 0.4022899544231257\n",
      "ndcg: 0.34394587077488015\n"
     ]
    }
   ],
   "source": [
    "_,_ = evaluate(user_test_baskets_dict,tifu_sklearn_cosine_preds_after_forget)"
   ]
  },
  {
   "cell_type": "code",
   "execution_count": 17,
   "id": "f36996dc",
   "metadata": {},
   "outputs": [
    {
     "name": "stdout",
     "output_type": "stream",
     "text": [
      "10\n",
      "recall: 0.2830601290554388\n",
      "ndcg: 0.4277020640277672\n",
      "20\n",
      "recall: 0.4023063352444601\n",
      "ndcg: 0.3439206055504645\n"
     ]
    }
   ],
   "source": [
    "_,_ = evaluate(user_test_baskets_dict,tifu_caboose_preds_after_forget)"
   ]
  },
  {
   "cell_type": "code",
   "execution_count": null,
   "id": "563a0e21",
   "metadata": {},
   "outputs": [],
   "source": []
  }
 ],
 "metadata": {
  "kernelspec": {
   "display_name": "Python 3 (ipykernel)",
   "language": "python",
   "name": "python3"
  },
  "language_info": {
   "codemirror_mode": {
    "name": "ipython",
    "version": 3
   },
   "file_extension": ".py",
   "mimetype": "text/x-python",
   "name": "python",
   "nbconvert_exporter": "python",
   "pygments_lexer": "ipython3",
   "version": "3.9.5"
  }
 },
 "nbformat": 4,
 "nbformat_minor": 5
}
