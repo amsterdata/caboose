{
 "cells": [
  {
   "cell_type": "code",
   "execution_count": 1,
   "id": "8d2c4451",
   "metadata": {},
   "outputs": [],
   "source": [
    "import pandas as pd\n",
    "import random\n",
    "from caboose_nbr.pernir import Pernir\n",
    "from caboose_nbr.evaluate_recommendation import evaluate"
   ]
  },
  {
   "cell_type": "code",
   "execution_count": 2,
   "id": "fdc9103c",
   "metadata": {},
   "outputs": [],
   "source": [
    "train_baskets = pd.read_csv('data/instacart_30k/train_baskets.csv.gz')\n",
    "test_samples = pd.read_csv('data/instacart_30k/test_samples.csv')"
   ]
  },
  {
   "cell_type": "code",
   "execution_count": 3,
   "id": "7d47339e",
   "metadata": {},
   "outputs": [],
   "source": [
    "all_users = train_baskets['user_id'].tolist()\n",
    "sample_users = random.sample(all_users,1000)"
   ]
  },
  {
   "cell_type": "code",
   "execution_count": 4,
   "id": "46d8bab7",
   "metadata": {},
   "outputs": [],
   "source": [
    "train_baskets = train_baskets[train_baskets['user_id'].isin(sample_users)]\n",
    "test_samples = test_samples[test_samples['user_id'].isin(sample_users)]\n",
    "test_samples = test_samples.groupby('user_id').sample(1)"
   ]
  },
  {
   "cell_type": "code",
   "execution_count": 5,
   "id": "d5363cd0",
   "metadata": {},
   "outputs": [
    {
     "name": "stdout",
     "output_type": "stream",
     "text": [
      "(404214, 10)\n",
      "(961, 5)\n",
      "(119222, 2)\n"
     ]
    }
   ],
   "source": [
    "print(train_baskets.shape)\n",
    "print(test_samples.shape)\n",
    "print(train_baskets[['user_id','item_id']].drop_duplicates().shape)"
   ]
  },
  {
   "cell_type": "code",
   "execution_count": 6,
   "id": "97137269",
   "metadata": {},
   "outputs": [
    {
     "name": "stdout",
     "output_type": "stream",
     "text": [
      "start of knn\n"
     ]
    },
    {
     "name": "stderr",
     "output_type": "stream",
     "text": [
      "Done: 100%|████████████████████████████████████████████████████████████████████████████████████████████████████████████████████████████████████████████████████████████| 961/961 [00:00<00:00, 19404.24it/s]\n"
     ]
    },
    {
     "name": "stdout",
     "output_type": "stream",
     "text": [
      "knn finished\n"
     ]
    }
   ],
   "source": [
    "pernir_similaripy = Pernir(train_baskets, test_samples,'similaripy')\n",
    "pernir_similaripy.train()"
   ]
  },
  {
   "cell_type": "code",
   "execution_count": 7,
   "id": "a83a2a6f",
   "metadata": {},
   "outputs": [
    {
     "name": "stdout",
     "output_type": "stream",
     "text": [
      "num test users: 961\n",
      "0 samples passed\n",
      "500 samples passed\n"
     ]
    }
   ],
   "source": [
    "pernir_similaripy_preds , sim_scores = pernir_similaripy.predict()"
   ]
  },
  {
   "cell_type": "code",
   "execution_count": 8,
   "id": "753a2307",
   "metadata": {},
   "outputs": [
    {
     "name": "stdout",
     "output_type": "stream",
     "text": [
      "start of knn\n",
      "knn finished\n"
     ]
    },
    {
     "name": "stderr",
     "output_type": "stream",
     "text": [
      "--Creating transpose of R...\n",
      "--Computing row norms...\n",
      "--Configuring for top-k -- num_threads: 4; pinning? false;\n",
      "--Scheduling parallel top-k computation...\n"
     ]
    }
   ],
   "source": [
    "pernir_caboose = Pernir(train_baskets, test_samples,'caboose')\n",
    "pernir_caboose.train()"
   ]
  },
  {
   "cell_type": "code",
   "execution_count": 9,
   "id": "813fbf47",
   "metadata": {},
   "outputs": [
    {
     "name": "stdout",
     "output_type": "stream",
     "text": [
      "num test users: 961\n",
      "0 samples passed\n",
      "500 samples passed\n"
     ]
    }
   ],
   "source": [
    "pernir_caboose_preds , caboose_scores = pernir_caboose.predict()"
   ]
  },
  {
   "cell_type": "code",
   "execution_count": 10,
   "id": "1aa0c631",
   "metadata": {},
   "outputs": [],
   "source": [
    "def sanity_check(users,default_model,caboose_model,default_preds, caboose_preds):\n",
    "    bad_users  = []\n",
    "    for user in users:\n",
    "        if set(default_model.user_neighbors[user]) != set(caboose_model.user_neighbors[user]):\n",
    "            bad_users.append(user)\n",
    "    print('bad users:',len(bad_users))\n",
    "    bad_preds  = []\n",
    "    for i in range(len(default_preds)):\n",
    "        if default_preds[i] != caboose_preds[i]:\n",
    "            bad_preds.append(i)\n",
    "    print('bad predictions:',len(bad_preds))"
   ]
  },
  {
   "cell_type": "code",
   "execution_count": 11,
   "id": "8cbba8fa",
   "metadata": {},
   "outputs": [
    {
     "name": "stdout",
     "output_type": "stream",
     "text": [
      "bad users: 0\n",
      "bad predictions: 0\n"
     ]
    }
   ],
   "source": [
    "sanity_check(test_samples['user_id'].tolist(),\n",
    "             pernir_similaripy,pernir_caboose,\n",
    "             pernir_similaripy_preds,pernir_caboose_preds)"
   ]
  },
  {
   "cell_type": "code",
   "execution_count": 12,
   "id": "ea04e0af",
   "metadata": {},
   "outputs": [],
   "source": [
    "interactions_to_forget = train_baskets[['user_id','item_id']].drop_duplicates().sample(5000)"
   ]
  },
  {
   "cell_type": "code",
   "execution_count": 13,
   "id": "38141087",
   "metadata": {},
   "outputs": [
    {
     "name": "stderr",
     "output_type": "stream",
     "text": [
      "/Users/mozhdeh/Documents/caboose/caboose_nbr/pernir.py:115: SettingWithCopyWarning: \n",
      "A value is trying to be set on a copy of a slice from a DataFrame\n",
      "\n",
      "See the caveats in the documentation: https://pandas.pydata.org/pandas-docs/stable/user_guide/indexing.html#returning-a-view-versus-a-copy\n",
      "  self.train_baskets.drop('user_item', axis=1, inplace=True)\n"
     ]
    },
    {
     "name": "stdout",
     "output_type": "stream",
     "text": [
      "start of knn\n"
     ]
    },
    {
     "name": "stderr",
     "output_type": "stream",
     "text": [
      "Done: 100%|████████████████████████████████████████████████████████████████████████████████████████████████████████████████████████████████████████████████████████████| 961/961 [00:00<00:00, 22475.33it/s]\n"
     ]
    },
    {
     "name": "stdout",
     "output_type": "stream",
     "text": [
      "knn finished\n",
      "num test users: 961\n",
      "0 samples passed\n",
      "500 samples passed\n"
     ]
    }
   ],
   "source": [
    "pernir_similaripy.forget_interactions(interactions_to_forget.values.tolist())\n",
    "pernir_similaripy_preds_after_forget , _ = pernir_similaripy.predict()"
   ]
  },
  {
   "cell_type": "code",
   "execution_count": 14,
   "id": "bcd83c8f",
   "metadata": {},
   "outputs": [
    {
     "name": "stderr",
     "output_type": "stream",
     "text": [
      "/Users/mozhdeh/Documents/caboose/caboose_nbr/pernir.py:115: SettingWithCopyWarning: \n",
      "A value is trying to be set on a copy of a slice from a DataFrame\n",
      "\n",
      "See the caveats in the documentation: https://pandas.pydata.org/pandas-docs/stable/user_guide/indexing.html#returning-a-view-versus-a-copy\n",
      "  self.train_baskets.drop('user_item', axis=1, inplace=True)\n"
     ]
    },
    {
     "name": "stdout",
     "output_type": "stream",
     "text": [
      "num test users: 961\n",
      "0 samples passed\n",
      "500 samples passed\n"
     ]
    }
   ],
   "source": [
    "pernir_caboose.forget_interactions(interactions_to_forget.values.tolist())\n",
    "pernir_caboose_preds_after_forget , _ = pernir_caboose.predict()"
   ]
  },
  {
   "cell_type": "code",
   "execution_count": 15,
   "id": "05b4251b",
   "metadata": {},
   "outputs": [
    {
     "name": "stdout",
     "output_type": "stream",
     "text": [
      "bad users: 0\n",
      "bad predictions: 0\n"
     ]
    }
   ],
   "source": [
    "sanity_check(test_samples['user_id'].tolist(),\n",
    "             pernir_similaripy,pernir_caboose,\n",
    "             pernir_similaripy_preds_after_forget[0],pernir_caboose_preds_after_forget[0])"
   ]
  },
  {
   "cell_type": "code",
   "execution_count": null,
   "id": "3915a1e6",
   "metadata": {},
   "outputs": [],
   "source": []
  }
 ],
 "metadata": {
  "kernelspec": {
   "display_name": "Python 3 (ipykernel)",
   "language": "python",
   "name": "python3"
  },
  "language_info": {
   "codemirror_mode": {
    "name": "ipython",
    "version": 3
   },
   "file_extension": ".py",
   "mimetype": "text/x-python",
   "name": "python",
   "nbconvert_exporter": "python",
   "pygments_lexer": "ipython3",
   "version": "3.9.5"
  }
 },
 "nbformat": 4,
 "nbformat_minor": 5
}
