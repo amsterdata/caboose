{
 "cells": [
  {
   "cell_type": "code",
   "execution_count": null,
   "id": "8d2c4451",
   "metadata": {},
   "outputs": [],
   "source": [
    "import pandas as pd\n",
    "import numpy as np\n",
    "from caboose_nbr.tifuknn import TIFUKNN"
   ]
  },
  {
   "cell_type": "code",
   "execution_count": null,
   "id": "fdc9103c",
   "metadata": {},
   "outputs": [],
   "source": [
    "train_baskets = pd.read_csv('data/instacart_30k/train_baskets.csv.gz')\n",
    "test_baskets = pd.read_csv('data/instacart_30k/test_baskets.csv')\n",
    "valid_baskets = pd.read_csv('data/instacart_30k/valid_baskets.csv')"
   ]
  },
  {
   "cell_type": "code",
   "execution_count": null,
   "id": "a33e48aa",
   "metadata": {},
   "outputs": [],
   "source": [
    "aisles = pd.read_csv('data/instacart_30k/aisles.csv')\n",
    "products = pd.read_csv('data/instacart_30k/products.csv')\n",
    "products_with_aisles = products.merge(aisles, on='aisle_id')"
   ]
  },
  {
   "cell_type": "code",
   "execution_count": null,
   "id": "e1b4546c",
   "metadata": {},
   "outputs": [],
   "source": [
    "train_baskets_with_aisles = train_baskets.merge(products_with_aisles, left_on=\"item_id\", right_on=\"product_id\")"
   ]
  },
  {
   "cell_type": "code",
   "execution_count": null,
   "id": "558a5c9d",
   "metadata": {},
   "outputs": [],
   "source": [
    "# Works for seed=42 and sample_size=100\n",
    "\n",
    "seed = 42\n",
    "sample_size = 250\n",
    "sensitive_aisles = [82, 92, 102, 56]\n",
    "\n",
    "np.random.seed(seed)\n",
    "\n",
    "baby_baskets = train_baskets_with_aisles[train_baskets_with_aisles.aisle_id.isin(sensitive_aisles)]\n",
    "all_baby_users = baby_baskets.user_id.unique()\n",
    "baby_users = np.array(np.random.choice(all_baby_users, sample_size))\n",
    "baby_user_baskets = train_baskets_with_aisles[train_baskets_with_aisles.user_id.isin(baby_users)]\n",
    "\n",
    "other_aisles = [aisle for aisle in baby_user_baskets.aisle_id.unique() if aisle not in sensitive_aisles]\n",
    "\n",
    "all_nonbaby_users  = train_baskets_with_aisles[(train_baskets_with_aisles.aisle_id.isin(other_aisles)) \\\n",
    "                          & (~train_baskets_with_aisles.user_id.isin(all_baby_users))].user_id.unique()\n",
    "\n",
    "\n",
    "nonbaby_users = np.array(np.random.choice(all_nonbaby_users, sample_size))"
   ]
  },
  {
   "cell_type": "code",
   "execution_count": null,
   "id": "dd35664a",
   "metadata": {},
   "outputs": [],
   "source": [
    "users = np.concatenate((baby_users, nonbaby_users))\n",
    "sampled_train_baskets = train_baskets[train_baskets['user_id'].isin(users)]\n",
    "sampled_test_baskets = test_baskets[test_baskets['user_id'].isin(users)]\n",
    "sampled_valid_baskets = valid_baskets[valid_baskets['user_id'].isin(users)]"
   ]
  },
  {
   "cell_type": "code",
   "execution_count": null,
   "id": "f78ee573",
   "metadata": {},
   "outputs": [],
   "source": [
    "sampled_train_baskets[['user_id','item_id']].drop_duplicates().shape"
   ]
  },
  {
   "cell_type": "code",
   "execution_count": null,
   "id": "4532e902",
   "metadata": {},
   "outputs": [],
   "source": [
    "tifu_caboose = TIFUKNN(sampled_train_baskets, sampled_test_baskets, sampled_valid_baskets, 'caboose')\n",
    "tifu_caboose.train()"
   ]
  },
  {
   "cell_type": "code",
   "execution_count": null,
   "id": "e29e09e6",
   "metadata": {},
   "outputs": [],
   "source": [
    "baby_items = set(baby_baskets.item_id.unique())"
   ]
  },
  {
   "cell_type": "code",
   "execution_count": null,
   "id": "563a0e21",
   "metadata": {},
   "outputs": [],
   "source": [
    "for user in baby_users:\n",
    "    predictions = tifu_caboose.predict_for_user(user, 10)\n",
    "    predicted_baby_items = set(predictions) & baby_items\n",
    "    has_baby_items = len(predicted_baby_items) > 0\n",
    "    if has_baby_items:\n",
    "        print(f'User: {user} has predictions {predictions} with sensitive items {predicted_baby_items}.')\n",
    "        \n",
    "        chosen_users_items = sampled_train_baskets[sampled_train_baskets.user_id==user].item_id.unique()\n",
    "        chosen_users_baby_items = set(chosen_users_items) & baby_items\n",
    "\n",
    "        to_forget = [(user, item) for item in chosen_users_baby_items]\n",
    "        tifu_caboose.forget_interactions(to_forget)\n",
    "        predictions_after_forget = tifu_caboose.predict_for_user(user, 10)\n",
    "        remaining_baby_items = set(predictions_after_forget) & baby_items\n",
    "        print(f'Number of sensitive items in prediction after forgetting {len(to_forget)} interactions: {len(remaining_baby_items)}')        \n",
    "        print(\"---\")"
   ]
  },
  {
   "cell_type": "code",
   "execution_count": null,
   "id": "646f6f7b",
   "metadata": {},
   "outputs": [],
   "source": []
  }
 ],
 "metadata": {
  "kernelspec": {
   "display_name": "Python 3 (ipykernel)",
   "language": "python",
   "name": "python3"
  },
  "language_info": {
   "codemirror_mode": {
    "name": "ipython",
    "version": 3
   },
   "file_extension": ".py",
   "mimetype": "text/x-python",
   "name": "python",
   "nbconvert_exporter": "python",
   "pygments_lexer": "ipython3",
   "version": "3.9.13"
  }
 },
 "nbformat": 4,
 "nbformat_minor": 5
}
