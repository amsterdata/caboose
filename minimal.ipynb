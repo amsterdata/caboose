{
 "cells": [
  {
   "cell_type": "code",
   "execution_count": 1,
   "id": "dc445007",
   "metadata": {},
   "outputs": [],
   "source": [
    "import caboose\n",
    "import numpy as np\n",
    "from scipy.sparse import csr_matrix"
   ]
  },
  {
   "cell_type": "code",
   "execution_count": 2,
   "id": "d0e70cfc",
   "metadata": {},
   "outputs": [],
   "source": [
    "A = np.array(\n",
    "    [[1, 1, 1, 0, 1],\n",
    "     [0, 1, 0, 1, 0],\n",
    "     [0, 1, 1, 0, 1],\n",
    "     [0, 0, 0, 1, 0]],\n",
    "    dtype='float64')\n",
    "\n",
    "A_sparse = csr_matrix(A)"
   ]
  },
  {
   "cell_type": "code",
   "execution_count": 3,
   "id": "11bc34d3",
   "metadata": {},
   "outputs": [],
   "source": [
    "k = 2\n",
    "num_rows, num_cols = A_sparse.shape\n",
    "index = caboose.Index(num_rows, num_cols, A_sparse.indptr, A_sparse.indices, A_sparse.data, k)"
   ]
  },
  {
   "cell_type": "code",
   "execution_count": 4,
   "id": "11fa9c77",
   "metadata": {},
   "outputs": [
    {
     "data": {
      "text/plain": [
       "[(1, 0.35355339059327373), (2, 0.8660254037844387)]"
      ]
     },
     "execution_count": 4,
     "metadata": {},
     "output_type": "execute_result"
    }
   ],
   "source": [
    "index.topk(0)"
   ]
  },
  {
   "cell_type": "code",
   "execution_count": 5,
   "id": "d80a44c0",
   "metadata": {},
   "outputs": [
    {
     "data": {
      "text/plain": [
       "[(1, 0.7071067811865475)]"
      ]
     },
     "execution_count": 5,
     "metadata": {},
     "output_type": "execute_result"
    }
   ],
   "source": [
    "index.topk(3)"
   ]
  },
  {
   "cell_type": "code",
   "execution_count": 9,
   "id": "cb800f68",
   "metadata": {},
   "outputs": [],
   "source": [
    "index.forget(0, 1)"
   ]
  },
  {
   "cell_type": "code",
   "execution_count": 10,
   "id": "76e86bdd",
   "metadata": {},
   "outputs": [
    {
     "data": {
      "text/plain": [
       "[(2, 0.6666666666666667)]"
      ]
     },
     "execution_count": 10,
     "metadata": {},
     "output_type": "execute_result"
    }
   ],
   "source": [
    "index.topk(0)"
   ]
  },
  {
   "cell_type": "code",
   "execution_count": 11,
   "id": "c343e7f8",
   "metadata": {},
   "outputs": [
    {
     "data": {
      "text/plain": [
       "[(1, 0.7071067811865475)]"
      ]
     },
     "execution_count": 11,
     "metadata": {},
     "output_type": "execute_result"
    }
   ],
   "source": [
    "index.topk(3)"
   ]
  },
  {
   "cell_type": "code",
   "execution_count": null,
   "id": "3aad6aca",
   "metadata": {},
   "outputs": [],
   "source": []
  }
 ],
 "metadata": {
  "kernelspec": {
   "display_name": "Python 3 (ipykernel)",
   "language": "python",
   "name": "python3"
  },
  "language_info": {
   "codemirror_mode": {
    "name": "ipython",
    "version": 3
   },
   "file_extension": ".py",
   "mimetype": "text/x-python",
   "name": "python",
   "nbconvert_exporter": "python",
   "pygments_lexer": "ipython3",
   "version": "3.9.13"
  }
 },
 "nbformat": 4,
 "nbformat_minor": 5
}
