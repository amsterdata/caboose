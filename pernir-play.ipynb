{
 "cells": [
  {
   "cell_type": "code",
   "execution_count": 1,
   "id": "8d2c4451",
   "metadata": {},
   "outputs": [],
   "source": [
    "import pandas as pd\n",
    "import random\n",
    "from caboose_nbr.pernir import Pernir\n",
    "from caboose_nbr.evaluate_recommendation import evaluate"
   ]
  },
  {
   "cell_type": "code",
   "execution_count": 2,
   "id": "fdc9103c",
   "metadata": {},
   "outputs": [],
   "source": [
    "train_baskets = pd.read_csv('data/instacart_30k/train_baskets.csv.gz')\n",
    "test_samples = pd.read_csv('data/instacart_30k/test_samples.csv')"
   ]
  },
  {
   "cell_type": "code",
   "execution_count": 3,
   "id": "7d47339e",
   "metadata": {},
   "outputs": [],
   "source": [
    "all_users = train_baskets['user_id'].tolist()\n",
    "sample_users = random.sample(all_users,1000)"
   ]
  },
  {
   "cell_type": "code",
   "execution_count": 4,
   "id": "46d8bab7",
   "metadata": {},
   "outputs": [],
   "source": [
    "train_baskets = train_baskets[train_baskets['user_id'].isin(sample_users)]\n",
    "test_samples = test_samples[test_samples['user_id'].isin(sample_users)]\n",
    "test_samples = test_samples.groupby('user_id').sample(1)"
   ]
  },
  {
   "cell_type": "code",
   "execution_count": 5,
   "id": "d5363cd0",
   "metadata": {},
   "outputs": [
    {
     "name": "stdout",
     "output_type": "stream",
     "text": [
      "(400860, 10)\n",
      "(958, 5)\n",
      "(120659, 2)\n"
     ]
    }
   ],
   "source": [
    "print(train_baskets.shape)\n",
    "print(test_samples.shape)\n",
    "print(train_baskets[['user_id','item_id']].drop_duplicates().shape)"
   ]
  },
  {
   "cell_type": "code",
   "execution_count": 6,
   "id": "97137269",
   "metadata": {},
   "outputs": [
    {
     "name": "stdout",
     "output_type": "stream",
     "text": [
      "start of knn\n"
     ]
    },
    {
     "name": "stderr",
     "output_type": "stream",
     "text": [
      "Done: 100%|████████████████████████████████████████████████████████████████████████████████████████████████████████████████████████████████████████████████████████████| 958/958 [00:00<00:00, 15223.76it/s]\n"
     ]
    },
    {
     "name": "stdout",
     "output_type": "stream",
     "text": [
      "knn finished\n"
     ]
    }
   ],
   "source": [
    "pernir_similaripy = Pernir(train_baskets, test_samples,'similaripy')\n",
    "pernir_similaripy.train()"
   ]
  },
  {
   "cell_type": "code",
   "execution_count": 7,
   "id": "a83a2a6f",
   "metadata": {},
   "outputs": [
    {
     "name": "stdout",
     "output_type": "stream",
     "text": [
      "num test users: 958\n",
      "0 samples passed\n",
      "500 samples passed\n"
     ]
    }
   ],
   "source": [
    "pernir_similaripy_preds , sim_scores = pernir_similaripy.predict()"
   ]
  },
  {
   "cell_type": "code",
   "execution_count": 8,
   "id": "753a2307",
   "metadata": {},
   "outputs": [
    {
     "name": "stdout",
     "output_type": "stream",
     "text": [
      "start of knn\n",
      "knn finished\n"
     ]
    },
    {
     "name": "stderr",
     "output_type": "stream",
     "text": [
      "--Creating transpose of R...\n",
      "--Computing row norms...\n",
      "--Configuring for top-k -- num_threads: 4; pinning? false;\n",
      "--Scheduling parallel top-k computation...\n"
     ]
    }
   ],
   "source": [
    "pernir_caboose = Pernir(train_baskets, test_samples,'caboose')\n",
    "pernir_caboose.train()"
   ]
  },
  {
   "cell_type": "code",
   "execution_count": 9,
   "id": "813fbf47",
   "metadata": {},
   "outputs": [
    {
     "name": "stdout",
     "output_type": "stream",
     "text": [
      "num test users: 958\n",
      "0 samples passed\n",
      "500 samples passed\n"
     ]
    }
   ],
   "source": [
    "pernir_caboose_preds , caboose_scores = pernir_caboose.predict()"
   ]
  },
  {
   "cell_type": "code",
   "execution_count": 15,
   "id": "1aa0c631",
   "metadata": {},
   "outputs": [
    {
     "name": "stdout",
     "output_type": "stream",
     "text": [
      "958\n"
     ]
    }
   ],
   "source": [
    "test_users = test_samples['user_id'].tolist()\n",
    "bad_users  = []\n",
    "for user in test_users:\n",
    "    if pernir_similaripy.user_neighbors[user] != pernir_caboose.user_neighbors[user]:\n",
    "        bad_users.append(user)\n",
    "print(len(bad_users))"
   ]
  },
  {
   "cell_type": "code",
   "execution_count": 10,
   "id": "1552b79b",
   "metadata": {},
   "outputs": [
    {
     "name": "stdout",
     "output_type": "stream",
     "text": [
      "684\n"
     ]
    }
   ],
   "source": [
    "bad_preds  = []\n",
    "for i in range(len(pernir_similaripy_preds)):\n",
    "    if pernir_similaripy_preds[i] != pernir_caboose_preds[i]:\n",
    "        bad_preds.append(i)\n",
    "print(len(bad_preds))"
   ]
  },
  {
   "cell_type": "code",
   "execution_count": 11,
   "id": "8d38f1c8",
   "metadata": {},
   "outputs": [
    {
     "data": {
      "text/plain": [
       "[1, 2, 3, 4, 5, 6, 8, 9, 10, 11]"
      ]
     },
     "execution_count": 11,
     "metadata": {},
     "output_type": "execute_result"
    }
   ],
   "source": [
    "bad_preds[:10]"
   ]
  },
  {
   "cell_type": "code",
   "execution_count": null,
   "id": "ea04e0af",
   "metadata": {},
   "outputs": [],
   "source": []
  }
 ],
 "metadata": {
  "kernelspec": {
   "display_name": "Python 3 (ipykernel)",
   "language": "python",
   "name": "python3"
  },
  "language_info": {
   "codemirror_mode": {
    "name": "ipython",
    "version": 3
   },
   "file_extension": ".py",
   "mimetype": "text/x-python",
   "name": "python",
   "nbconvert_exporter": "python",
   "pygments_lexer": "ipython3",
   "version": "3.9.5"
  }
 },
 "nbformat": 4,
 "nbformat_minor": 5
}
